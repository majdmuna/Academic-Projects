{
 "cells": [
  {
   "cell_type": "code",
   "execution_count": 1,
   "metadata": {},
   "outputs": [
    {
     "name": "stderr",
     "output_type": "stream",
     "text": [
      "/anaconda3/lib/python3.7/site-packages/sklearn/ensemble/weight_boosting.py:29: DeprecationWarning: numpy.core.umath_tests is an internal NumPy module and should not be imported. It will be removed in a future NumPy release.\n",
      "  from numpy.core.umath_tests import inner1d\n"
     ]
    }
   ],
   "source": [
    "import pandas as pd\n",
    "import numpy as np\n",
    "\n",
    "import matplotlib.pyplot as plt\n",
    "import seaborn as sns\n",
    "from sklearn.metrics import log_loss\n",
    "from sklearn.datasets import load_iris\n",
    "from sklearn.linear_model import LogisticRegression\n",
    "from sklearn.model_selection import train_test_split\n",
    "#from sklearn.metrics import plot_confusion_matrix\n",
    "\n",
    "from imblearn.over_sampling import RandomOverSampler, SMOTE\n",
    "from imblearn.under_sampling import RandomUnderSampler"
   ]
  },
  {
   "cell_type": "markdown",
   "metadata": {},
   "source": [
    "# Data Cleaning"
   ]
  },
  {
   "cell_type": "code",
   "execution_count": 2,
   "metadata": {},
   "outputs": [
    {
     "data": {
      "text/html": [
       "<div>\n",
       "<style scoped>\n",
       "    .dataframe tbody tr th:only-of-type {\n",
       "        vertical-align: middle;\n",
       "    }\n",
       "\n",
       "    .dataframe tbody tr th {\n",
       "        vertical-align: top;\n",
       "    }\n",
       "\n",
       "    .dataframe thead th {\n",
       "        text-align: right;\n",
       "    }\n",
       "</style>\n",
       "<table border=\"1\" class=\"dataframe\">\n",
       "  <thead>\n",
       "    <tr style=\"text-align: right;\">\n",
       "      <th></th>\n",
       "      <th>Timestamp</th>\n",
       "      <th>Before we begin, what's your age (in years)?</th>\n",
       "      <th>Please assign a number 0-10 for each priority. [Your commitment to your relationship with your partner]</th>\n",
       "      <th>Please assign a number 0-10 for each priority. [Your physical distance to your partner ]</th>\n",
       "      <th>Please assign a number 0-10 for each priority. [Your career]</th>\n",
       "      <th>Please assign a number 0-10 for each priority. [Your partner’s career]</th>\n",
       "      <th>Would you...</th>\n",
       "      <th>Please assign a number 0-10 for each priority.  [Your commitment to your relationship with your partner]</th>\n",
       "      <th>Please assign a number 0-10 for each priority.  [Your physical proximity to your partner]</th>\n",
       "      <th>Please assign a number 0-10 for each priority.  [Your career]</th>\n",
       "      <th>...</th>\n",
       "      <th>Please assign a number 0-10 for each priority.  [Your physical proximity to your partner].1</th>\n",
       "      <th>Please assign a number 0-10 for each priority.  [Your career].1</th>\n",
       "      <th>Please assign a number 0-10 for each priority.  [Your partner’s career].1</th>\n",
       "      <th>Please assign a number 0-10 for each priority.  [Communication/contact with your partner].1</th>\n",
       "      <th>Please assign a number 0-10 for each priority.  [Your time].1</th>\n",
       "      <th>Please assign a number 0-10 for each priority.  [Your partner's time].1</th>\n",
       "      <th>Please assign a number 0-10 for each priority.  [Your sense of security in your relationship].1</th>\n",
       "      <th>Please assign a number 0-10 for each priority.  [Your family's/friends' satisfaction ]</th>\n",
       "      <th>Please assign a number 0-10 for each priority.  [Your personal desire to get married]</th>\n",
       "      <th>Would you....2</th>\n",
       "    </tr>\n",
       "  </thead>\n",
       "  <tbody>\n",
       "    <tr>\n",
       "      <th>0</th>\n",
       "      <td>3/17/2021 1:47:01</td>\n",
       "      <td>18</td>\n",
       "      <td>3.0</td>\n",
       "      <td>1.0</td>\n",
       "      <td>6.0</td>\n",
       "      <td>1.0</td>\n",
       "      <td>Continue to commit to the relationship</td>\n",
       "      <td>5.0</td>\n",
       "      <td>3.0</td>\n",
       "      <td>5.0</td>\n",
       "      <td>...</td>\n",
       "      <td>4</td>\n",
       "      <td>7.0</td>\n",
       "      <td>5</td>\n",
       "      <td>7.0</td>\n",
       "      <td>7.0</td>\n",
       "      <td>5.0</td>\n",
       "      <td>6.0</td>\n",
       "      <td>7.0</td>\n",
       "      <td>7.0</td>\n",
       "      <td>Suggest the idea of marriage to your partner a...</td>\n",
       "    </tr>\n",
       "    <tr>\n",
       "      <th>1</th>\n",
       "      <td>3/21/2021 21:36:07</td>\n",
       "      <td>14</td>\n",
       "      <td>7.0</td>\n",
       "      <td>1.0</td>\n",
       "      <td>10.0</td>\n",
       "      <td>8.0</td>\n",
       "      <td>Continue to commit to the relationship</td>\n",
       "      <td>8.0</td>\n",
       "      <td>1.0</td>\n",
       "      <td>10.0</td>\n",
       "      <td>...</td>\n",
       "      <td>3</td>\n",
       "      <td>10.0</td>\n",
       "      <td>8</td>\n",
       "      <td>8.0</td>\n",
       "      <td>7.0</td>\n",
       "      <td>7.0</td>\n",
       "      <td>8.0</td>\n",
       "      <td>1.0</td>\n",
       "      <td>1.0</td>\n",
       "      <td>Not bring up the idea of marriage to your part...</td>\n",
       "    </tr>\n",
       "    <tr>\n",
       "      <th>2</th>\n",
       "      <td>3/21/2021 21:45:46</td>\n",
       "      <td>13</td>\n",
       "      <td>8.0</td>\n",
       "      <td>6.0</td>\n",
       "      <td>8.0</td>\n",
       "      <td>8.0</td>\n",
       "      <td>Continue to commit to the relationship</td>\n",
       "      <td>9.0</td>\n",
       "      <td>6.0</td>\n",
       "      <td>9.0</td>\n",
       "      <td>...</td>\n",
       "      <td>6</td>\n",
       "      <td>8.0</td>\n",
       "      <td>8</td>\n",
       "      <td>9.0</td>\n",
       "      <td>8.0</td>\n",
       "      <td>8.0</td>\n",
       "      <td>9.0</td>\n",
       "      <td>6.0</td>\n",
       "      <td>7.0</td>\n",
       "      <td>Subtly hint at the idea of marriage as a next ...</td>\n",
       "    </tr>\n",
       "    <tr>\n",
       "      <th>3</th>\n",
       "      <td>3/21/2021 21:47:26</td>\n",
       "      <td>13</td>\n",
       "      <td>10.0</td>\n",
       "      <td>6.0</td>\n",
       "      <td>10.0</td>\n",
       "      <td>10.0</td>\n",
       "      <td>Continue to commit to the relationship</td>\n",
       "      <td>10.0</td>\n",
       "      <td>5.0</td>\n",
       "      <td>10.0</td>\n",
       "      <td>...</td>\n",
       "      <td>5</td>\n",
       "      <td>10.0</td>\n",
       "      <td>10</td>\n",
       "      <td>6.0</td>\n",
       "      <td>9.0</td>\n",
       "      <td>9.0</td>\n",
       "      <td>9.0</td>\n",
       "      <td>3.0</td>\n",
       "      <td>10.0</td>\n",
       "      <td>Suggest the idea of marriage to your partner a...</td>\n",
       "    </tr>\n",
       "    <tr>\n",
       "      <th>4</th>\n",
       "      <td>3/21/2021 22:04:23</td>\n",
       "      <td>13</td>\n",
       "      <td>10.0</td>\n",
       "      <td>3.0</td>\n",
       "      <td>7.0</td>\n",
       "      <td>8.0</td>\n",
       "      <td>Continue to commit to the relationship</td>\n",
       "      <td>10.0</td>\n",
       "      <td>3.0</td>\n",
       "      <td>7.0</td>\n",
       "      <td>...</td>\n",
       "      <td>3</td>\n",
       "      <td>7.0</td>\n",
       "      <td>8</td>\n",
       "      <td>6.0</td>\n",
       "      <td>7.0</td>\n",
       "      <td>8.0</td>\n",
       "      <td>10.0</td>\n",
       "      <td>5.0</td>\n",
       "      <td>6.0</td>\n",
       "      <td>Suggest the idea of marriage to your partner a...</td>\n",
       "    </tr>\n",
       "  </tbody>\n",
       "</table>\n",
       "<p>5 rows × 28 columns</p>\n",
       "</div>"
      ],
      "text/plain": [
       "            Timestamp  Before we begin, what's your age (in years)?  \\\n",
       "0   3/17/2021 1:47:01                                            18   \n",
       "1  3/21/2021 21:36:07                                            14   \n",
       "2  3/21/2021 21:45:46                                            13   \n",
       "3  3/21/2021 21:47:26                                            13   \n",
       "4  3/21/2021 22:04:23                                            13   \n",
       "\n",
       "   Please assign a number 0-10 for each priority. [Your commitment to your relationship with your partner]  \\\n",
       "0                                                3.0                                                         \n",
       "1                                                7.0                                                         \n",
       "2                                                8.0                                                         \n",
       "3                                               10.0                                                         \n",
       "4                                               10.0                                                         \n",
       "\n",
       "   Please assign a number 0-10 for each priority. [Your physical distance to your partner ]  \\\n",
       "0                                                1.0                                          \n",
       "1                                                1.0                                          \n",
       "2                                                6.0                                          \n",
       "3                                                6.0                                          \n",
       "4                                                3.0                                          \n",
       "\n",
       "   Please assign a number 0-10 for each priority. [Your career]  \\\n",
       "0                                                6.0              \n",
       "1                                               10.0              \n",
       "2                                                8.0              \n",
       "3                                               10.0              \n",
       "4                                                7.0              \n",
       "\n",
       "   Please assign a number 0-10 for each priority. [Your partner’s career]  \\\n",
       "0                                                1.0                        \n",
       "1                                                8.0                        \n",
       "2                                                8.0                        \n",
       "3                                               10.0                        \n",
       "4                                                8.0                        \n",
       "\n",
       "                             Would you...  \\\n",
       "0  Continue to commit to the relationship   \n",
       "1  Continue to commit to the relationship   \n",
       "2  Continue to commit to the relationship   \n",
       "3  Continue to commit to the relationship   \n",
       "4  Continue to commit to the relationship   \n",
       "\n",
       "   Please assign a number 0-10 for each priority.  [Your commitment to your relationship with your partner]  \\\n",
       "0                                                5.0                                                          \n",
       "1                                                8.0                                                          \n",
       "2                                                9.0                                                          \n",
       "3                                               10.0                                                          \n",
       "4                                               10.0                                                          \n",
       "\n",
       "   Please assign a number 0-10 for each priority.  [Your physical proximity to your partner]  \\\n",
       "0                                                3.0                                           \n",
       "1                                                1.0                                           \n",
       "2                                                6.0                                           \n",
       "3                                                5.0                                           \n",
       "4                                                3.0                                           \n",
       "\n",
       "   Please assign a number 0-10 for each priority.  [Your career]  \\\n",
       "0                                                5.0               \n",
       "1                                               10.0               \n",
       "2                                                9.0               \n",
       "3                                               10.0               \n",
       "4                                                7.0               \n",
       "\n",
       "                         ...                          \\\n",
       "0                        ...                           \n",
       "1                        ...                           \n",
       "2                        ...                           \n",
       "3                        ...                           \n",
       "4                        ...                           \n",
       "\n",
       "   Please assign a number 0-10 for each priority.  [Your physical proximity to your partner].1  \\\n",
       "0                                                  4                                             \n",
       "1                                                  3                                             \n",
       "2                                                  6                                             \n",
       "3                                                  5                                             \n",
       "4                                                  3                                             \n",
       "\n",
       "   Please assign a number 0-10 for each priority.  [Your career].1  \\\n",
       "0                                                7.0                 \n",
       "1                                               10.0                 \n",
       "2                                                8.0                 \n",
       "3                                               10.0                 \n",
       "4                                                7.0                 \n",
       "\n",
       "   Please assign a number 0-10 for each priority.  [Your partner’s career].1  \\\n",
       "0                                                  5                           \n",
       "1                                                  8                           \n",
       "2                                                  8                           \n",
       "3                                                 10                           \n",
       "4                                                  8                           \n",
       "\n",
       "   Please assign a number 0-10 for each priority.  [Communication/contact with your partner].1  \\\n",
       "0                                                7.0                                             \n",
       "1                                                8.0                                             \n",
       "2                                                9.0                                             \n",
       "3                                                6.0                                             \n",
       "4                                                6.0                                             \n",
       "\n",
       "   Please assign a number 0-10 for each priority.  [Your time].1  \\\n",
       "0                                                7.0               \n",
       "1                                                7.0               \n",
       "2                                                8.0               \n",
       "3                                                9.0               \n",
       "4                                                7.0               \n",
       "\n",
       "   Please assign a number 0-10 for each priority.  [Your partner's time].1  \\\n",
       "0                                                5.0                         \n",
       "1                                                7.0                         \n",
       "2                                                8.0                         \n",
       "3                                                9.0                         \n",
       "4                                                8.0                         \n",
       "\n",
       "  Please assign a number 0-10 for each priority.  [Your sense of security in your relationship].1  \\\n",
       "0                                                6.0                                                \n",
       "1                                                8.0                                                \n",
       "2                                                9.0                                                \n",
       "3                                                9.0                                                \n",
       "4                                               10.0                                                \n",
       "\n",
       "   Please assign a number 0-10 for each priority.  [Your family's/friends' satisfaction ]  \\\n",
       "0                                                7.0                                        \n",
       "1                                                1.0                                        \n",
       "2                                                6.0                                        \n",
       "3                                                3.0                                        \n",
       "4                                                5.0                                        \n",
       "\n",
       "   Please assign a number 0-10 for each priority.  [Your personal desire to get married]  \\\n",
       "0                                                7.0                                       \n",
       "1                                                1.0                                       \n",
       "2                                                7.0                                       \n",
       "3                                               10.0                                       \n",
       "4                                                6.0                                       \n",
       "\n",
       "                                      Would you....2  \n",
       "0  Suggest the idea of marriage to your partner a...  \n",
       "1  Not bring up the idea of marriage to your part...  \n",
       "2  Subtly hint at the idea of marriage as a next ...  \n",
       "3  Suggest the idea of marriage to your partner a...  \n",
       "4  Suggest the idea of marriage to your partner a...  \n",
       "\n",
       "[5 rows x 28 columns]"
      ]
     },
     "execution_count": 2,
     "metadata": {},
     "output_type": "execute_result"
    }
   ],
   "source": [
    "data = pd.read_csv('avg_survey_data.csv')\n",
    "data.head()"
   ]
  },
  {
   "cell_type": "code",
   "execution_count": 3,
   "metadata": {
    "scrolled": true
   },
   "outputs": [
    {
     "data": {
      "text/html": [
       "<div>\n",
       "<style scoped>\n",
       "    .dataframe tbody tr th:only-of-type {\n",
       "        vertical-align: middle;\n",
       "    }\n",
       "\n",
       "    .dataframe tbody tr th {\n",
       "        vertical-align: top;\n",
       "    }\n",
       "\n",
       "    .dataframe thead th {\n",
       "        text-align: right;\n",
       "    }\n",
       "</style>\n",
       "<table border=\"1\" class=\"dataframe\">\n",
       "  <thead>\n",
       "    <tr style=\"text-align: right;\">\n",
       "      <th></th>\n",
       "      <th>age</th>\n",
       "      <th>s1_commitment</th>\n",
       "      <th>s1_distance</th>\n",
       "      <th>s1_career</th>\n",
       "      <th>s1_partner_career</th>\n",
       "      <th>s1_decision</th>\n",
       "      <th>s2_commitment</th>\n",
       "      <th>s2_distance</th>\n",
       "      <th>s2_career</th>\n",
       "      <th>s2_partner_career</th>\n",
       "      <th>...</th>\n",
       "      <th>s3_distance</th>\n",
       "      <th>s3_career</th>\n",
       "      <th>s3_partner_career</th>\n",
       "      <th>s3_communication</th>\n",
       "      <th>s3_your_time</th>\n",
       "      <th>s3_partner_time</th>\n",
       "      <th>s3_security</th>\n",
       "      <th>s3_family</th>\n",
       "      <th>s3_marriage</th>\n",
       "      <th>s3_decision</th>\n",
       "    </tr>\n",
       "  </thead>\n",
       "  <tbody>\n",
       "    <tr>\n",
       "      <th>0</th>\n",
       "      <td>18</td>\n",
       "      <td>3.0</td>\n",
       "      <td>1.0</td>\n",
       "      <td>6.0</td>\n",
       "      <td>1.0</td>\n",
       "      <td>Continue to commit to the relationship</td>\n",
       "      <td>5.0</td>\n",
       "      <td>3.0</td>\n",
       "      <td>5.0</td>\n",
       "      <td>3.0</td>\n",
       "      <td>...</td>\n",
       "      <td>4</td>\n",
       "      <td>7.0</td>\n",
       "      <td>5</td>\n",
       "      <td>7.0</td>\n",
       "      <td>7.0</td>\n",
       "      <td>5.0</td>\n",
       "      <td>6.0</td>\n",
       "      <td>7.0</td>\n",
       "      <td>7.0</td>\n",
       "      <td>Suggest the idea of marriage to your partner a...</td>\n",
       "    </tr>\n",
       "    <tr>\n",
       "      <th>1</th>\n",
       "      <td>14</td>\n",
       "      <td>7.0</td>\n",
       "      <td>1.0</td>\n",
       "      <td>10.0</td>\n",
       "      <td>8.0</td>\n",
       "      <td>Continue to commit to the relationship</td>\n",
       "      <td>8.0</td>\n",
       "      <td>1.0</td>\n",
       "      <td>10.0</td>\n",
       "      <td>8.0</td>\n",
       "      <td>...</td>\n",
       "      <td>3</td>\n",
       "      <td>10.0</td>\n",
       "      <td>8</td>\n",
       "      <td>8.0</td>\n",
       "      <td>7.0</td>\n",
       "      <td>7.0</td>\n",
       "      <td>8.0</td>\n",
       "      <td>1.0</td>\n",
       "      <td>1.0</td>\n",
       "      <td>Not bring up the idea of marriage to your part...</td>\n",
       "    </tr>\n",
       "    <tr>\n",
       "      <th>2</th>\n",
       "      <td>13</td>\n",
       "      <td>8.0</td>\n",
       "      <td>6.0</td>\n",
       "      <td>8.0</td>\n",
       "      <td>8.0</td>\n",
       "      <td>Continue to commit to the relationship</td>\n",
       "      <td>9.0</td>\n",
       "      <td>6.0</td>\n",
       "      <td>9.0</td>\n",
       "      <td>9.0</td>\n",
       "      <td>...</td>\n",
       "      <td>6</td>\n",
       "      <td>8.0</td>\n",
       "      <td>8</td>\n",
       "      <td>9.0</td>\n",
       "      <td>8.0</td>\n",
       "      <td>8.0</td>\n",
       "      <td>9.0</td>\n",
       "      <td>6.0</td>\n",
       "      <td>7.0</td>\n",
       "      <td>Subtly hint at the idea of marriage as a next ...</td>\n",
       "    </tr>\n",
       "    <tr>\n",
       "      <th>3</th>\n",
       "      <td>13</td>\n",
       "      <td>10.0</td>\n",
       "      <td>6.0</td>\n",
       "      <td>10.0</td>\n",
       "      <td>10.0</td>\n",
       "      <td>Continue to commit to the relationship</td>\n",
       "      <td>10.0</td>\n",
       "      <td>5.0</td>\n",
       "      <td>10.0</td>\n",
       "      <td>10.0</td>\n",
       "      <td>...</td>\n",
       "      <td>5</td>\n",
       "      <td>10.0</td>\n",
       "      <td>10</td>\n",
       "      <td>6.0</td>\n",
       "      <td>9.0</td>\n",
       "      <td>9.0</td>\n",
       "      <td>9.0</td>\n",
       "      <td>3.0</td>\n",
       "      <td>10.0</td>\n",
       "      <td>Suggest the idea of marriage to your partner a...</td>\n",
       "    </tr>\n",
       "    <tr>\n",
       "      <th>4</th>\n",
       "      <td>13</td>\n",
       "      <td>10.0</td>\n",
       "      <td>3.0</td>\n",
       "      <td>7.0</td>\n",
       "      <td>8.0</td>\n",
       "      <td>Continue to commit to the relationship</td>\n",
       "      <td>10.0</td>\n",
       "      <td>3.0</td>\n",
       "      <td>7.0</td>\n",
       "      <td>8.0</td>\n",
       "      <td>...</td>\n",
       "      <td>3</td>\n",
       "      <td>7.0</td>\n",
       "      <td>8</td>\n",
       "      <td>6.0</td>\n",
       "      <td>7.0</td>\n",
       "      <td>8.0</td>\n",
       "      <td>10.0</td>\n",
       "      <td>5.0</td>\n",
       "      <td>6.0</td>\n",
       "      <td>Suggest the idea of marriage to your partner a...</td>\n",
       "    </tr>\n",
       "  </tbody>\n",
       "</table>\n",
       "<p>5 rows × 27 columns</p>\n",
       "</div>"
      ],
      "text/plain": [
       "   age  s1_commitment  s1_distance  s1_career  s1_partner_career  \\\n",
       "0   18            3.0          1.0        6.0                1.0   \n",
       "1   14            7.0          1.0       10.0                8.0   \n",
       "2   13            8.0          6.0        8.0                8.0   \n",
       "3   13           10.0          6.0       10.0               10.0   \n",
       "4   13           10.0          3.0        7.0                8.0   \n",
       "\n",
       "                              s1_decision  s2_commitment  s2_distance  \\\n",
       "0  Continue to commit to the relationship            5.0          3.0   \n",
       "1  Continue to commit to the relationship            8.0          1.0   \n",
       "2  Continue to commit to the relationship            9.0          6.0   \n",
       "3  Continue to commit to the relationship           10.0          5.0   \n",
       "4  Continue to commit to the relationship           10.0          3.0   \n",
       "\n",
       "   s2_career  s2_partner_career  \\\n",
       "0        5.0                3.0   \n",
       "1       10.0                8.0   \n",
       "2        9.0                9.0   \n",
       "3       10.0               10.0   \n",
       "4        7.0                8.0   \n",
       "\n",
       "                         ...                          s3_distance  s3_career  \\\n",
       "0                        ...                                    4        7.0   \n",
       "1                        ...                                    3       10.0   \n",
       "2                        ...                                    6        8.0   \n",
       "3                        ...                                    5       10.0   \n",
       "4                        ...                                    3        7.0   \n",
       "\n",
       "   s3_partner_career  s3_communication  s3_your_time s3_partner_time  \\\n",
       "0                  5               7.0           7.0             5.0   \n",
       "1                  8               8.0           7.0             7.0   \n",
       "2                  8               9.0           8.0             8.0   \n",
       "3                 10               6.0           9.0             9.0   \n",
       "4                  8               6.0           7.0             8.0   \n",
       "\n",
       "   s3_security  s3_family  s3_marriage  \\\n",
       "0          6.0        7.0          7.0   \n",
       "1          8.0        1.0          1.0   \n",
       "2          9.0        6.0          7.0   \n",
       "3          9.0        3.0         10.0   \n",
       "4         10.0        5.0          6.0   \n",
       "\n",
       "                                         s3_decision  \n",
       "0  Suggest the idea of marriage to your partner a...  \n",
       "1  Not bring up the idea of marriage to your part...  \n",
       "2  Subtly hint at the idea of marriage as a next ...  \n",
       "3  Suggest the idea of marriage to your partner a...  \n",
       "4  Suggest the idea of marriage to your partner a...  \n",
       "\n",
       "[5 rows x 27 columns]"
      ]
     },
     "execution_count": 3,
     "metadata": {},
     "output_type": "execute_result"
    }
   ],
   "source": [
    "data = data.drop(['Timestamp'], axis = 1)\n",
    "columns = data.columns\n",
    "data = data.rename(columns = {columns[0]: 'age', \n",
    "                              columns[1]: 's1_commitment', \n",
    "                              columns[2]: 's1_distance', \n",
    "                              columns[3]: 's1_career',\n",
    "                              columns[4]: 's1_partner_career', \n",
    "                              columns[5]: 's1_decision', \n",
    "                              columns[6]: 's2_commitment',\n",
    "                              columns[7] : 's2_distance',\n",
    "                              columns[8]: 's2_career',\n",
    "                              columns[9]: 's2_partner_career',\n",
    "                              columns[10]: 's2_communication',\n",
    "                              columns[11]: 's2_your_time',\n",
    "                              columns[12]: 's2_partner_time',\n",
    "                              columns[13]: 's2_security',\n",
    "                              columns[14]: 's2_compromise',\n",
    "                              columns[15]: 's2_decision',\n",
    "                              columns[16]: 's3_commitment',\n",
    "                             columns[17] : 's3_distance',\n",
    "                             columns[18]: 's3_career',\n",
    "                             columns[19]: 's3_partner_career',\n",
    "                             columns[20]: 's3_communication',\n",
    "                             columns[21]: 's3_your_time',\n",
    "                             columns[22]: 's3_partner_time',\n",
    "                              columns[23]: 's3_security',\n",
    "                             columns[24]: 's3_family',\n",
    "                             columns[25]: 's3_marriage',\n",
    "                             columns[26]: 's3_decision'})\n",
    "data.head()"
   ]
  },
  {
   "cell_type": "code",
   "execution_count": 4,
   "metadata": {
    "scrolled": true
   },
   "outputs": [
    {
     "data": {
      "text/html": [
       "<div>\n",
       "<style scoped>\n",
       "    .dataframe tbody tr th:only-of-type {\n",
       "        vertical-align: middle;\n",
       "    }\n",
       "\n",
       "    .dataframe tbody tr th {\n",
       "        vertical-align: top;\n",
       "    }\n",
       "\n",
       "    .dataframe thead th {\n",
       "        text-align: right;\n",
       "    }\n",
       "</style>\n",
       "<table border=\"1\" class=\"dataframe\">\n",
       "  <thead>\n",
       "    <tr style=\"text-align: right;\">\n",
       "      <th></th>\n",
       "      <th>age</th>\n",
       "      <th>s1_commitment</th>\n",
       "      <th>s1_distance</th>\n",
       "      <th>s1_career</th>\n",
       "      <th>s1_partner_career</th>\n",
       "      <th>s1_decision</th>\n",
       "      <th>s2_commitment</th>\n",
       "      <th>s2_distance</th>\n",
       "      <th>s2_career</th>\n",
       "      <th>s2_partner_career</th>\n",
       "      <th>...</th>\n",
       "      <th>s3_distance</th>\n",
       "      <th>s3_career</th>\n",
       "      <th>s3_partner_career</th>\n",
       "      <th>s3_communication</th>\n",
       "      <th>s3_your_time</th>\n",
       "      <th>s3_partner_time</th>\n",
       "      <th>s3_security</th>\n",
       "      <th>s3_family</th>\n",
       "      <th>s3_marriage</th>\n",
       "      <th>s3_decision</th>\n",
       "    </tr>\n",
       "  </thead>\n",
       "  <tbody>\n",
       "    <tr>\n",
       "      <th>0</th>\n",
       "      <td>18</td>\n",
       "      <td>3.0</td>\n",
       "      <td>1.0</td>\n",
       "      <td>6.0</td>\n",
       "      <td>1.0</td>\n",
       "      <td>1</td>\n",
       "      <td>5.0</td>\n",
       "      <td>3.0</td>\n",
       "      <td>5.0</td>\n",
       "      <td>3.0</td>\n",
       "      <td>...</td>\n",
       "      <td>4</td>\n",
       "      <td>7.0</td>\n",
       "      <td>5</td>\n",
       "      <td>7.0</td>\n",
       "      <td>7.0</td>\n",
       "      <td>5.0</td>\n",
       "      <td>6.0</td>\n",
       "      <td>7.0</td>\n",
       "      <td>7.0</td>\n",
       "      <td>0</td>\n",
       "    </tr>\n",
       "    <tr>\n",
       "      <th>1</th>\n",
       "      <td>14</td>\n",
       "      <td>7.0</td>\n",
       "      <td>1.0</td>\n",
       "      <td>10.0</td>\n",
       "      <td>8.0</td>\n",
       "      <td>1</td>\n",
       "      <td>8.0</td>\n",
       "      <td>1.0</td>\n",
       "      <td>10.0</td>\n",
       "      <td>8.0</td>\n",
       "      <td>...</td>\n",
       "      <td>3</td>\n",
       "      <td>10.0</td>\n",
       "      <td>8</td>\n",
       "      <td>8.0</td>\n",
       "      <td>7.0</td>\n",
       "      <td>7.0</td>\n",
       "      <td>8.0</td>\n",
       "      <td>1.0</td>\n",
       "      <td>1.0</td>\n",
       "      <td>1</td>\n",
       "    </tr>\n",
       "    <tr>\n",
       "      <th>2</th>\n",
       "      <td>13</td>\n",
       "      <td>8.0</td>\n",
       "      <td>6.0</td>\n",
       "      <td>8.0</td>\n",
       "      <td>8.0</td>\n",
       "      <td>1</td>\n",
       "      <td>9.0</td>\n",
       "      <td>6.0</td>\n",
       "      <td>9.0</td>\n",
       "      <td>9.0</td>\n",
       "      <td>...</td>\n",
       "      <td>6</td>\n",
       "      <td>8.0</td>\n",
       "      <td>8</td>\n",
       "      <td>9.0</td>\n",
       "      <td>8.0</td>\n",
       "      <td>8.0</td>\n",
       "      <td>9.0</td>\n",
       "      <td>6.0</td>\n",
       "      <td>7.0</td>\n",
       "      <td>2</td>\n",
       "    </tr>\n",
       "    <tr>\n",
       "      <th>3</th>\n",
       "      <td>13</td>\n",
       "      <td>10.0</td>\n",
       "      <td>6.0</td>\n",
       "      <td>10.0</td>\n",
       "      <td>10.0</td>\n",
       "      <td>1</td>\n",
       "      <td>10.0</td>\n",
       "      <td>5.0</td>\n",
       "      <td>10.0</td>\n",
       "      <td>10.0</td>\n",
       "      <td>...</td>\n",
       "      <td>5</td>\n",
       "      <td>10.0</td>\n",
       "      <td>10</td>\n",
       "      <td>6.0</td>\n",
       "      <td>9.0</td>\n",
       "      <td>9.0</td>\n",
       "      <td>9.0</td>\n",
       "      <td>3.0</td>\n",
       "      <td>10.0</td>\n",
       "      <td>0</td>\n",
       "    </tr>\n",
       "    <tr>\n",
       "      <th>4</th>\n",
       "      <td>13</td>\n",
       "      <td>10.0</td>\n",
       "      <td>3.0</td>\n",
       "      <td>7.0</td>\n",
       "      <td>8.0</td>\n",
       "      <td>1</td>\n",
       "      <td>10.0</td>\n",
       "      <td>3.0</td>\n",
       "      <td>7.0</td>\n",
       "      <td>8.0</td>\n",
       "      <td>...</td>\n",
       "      <td>3</td>\n",
       "      <td>7.0</td>\n",
       "      <td>8</td>\n",
       "      <td>6.0</td>\n",
       "      <td>7.0</td>\n",
       "      <td>8.0</td>\n",
       "      <td>10.0</td>\n",
       "      <td>5.0</td>\n",
       "      <td>6.0</td>\n",
       "      <td>0</td>\n",
       "    </tr>\n",
       "  </tbody>\n",
       "</table>\n",
       "<p>5 rows × 27 columns</p>\n",
       "</div>"
      ],
      "text/plain": [
       "   age  s1_commitment  s1_distance  s1_career  s1_partner_career  s1_decision  \\\n",
       "0   18            3.0          1.0        6.0                1.0            1   \n",
       "1   14            7.0          1.0       10.0                8.0            1   \n",
       "2   13            8.0          6.0        8.0                8.0            1   \n",
       "3   13           10.0          6.0       10.0               10.0            1   \n",
       "4   13           10.0          3.0        7.0                8.0            1   \n",
       "\n",
       "   s2_commitment  s2_distance  s2_career  s2_partner_career     ...       \\\n",
       "0            5.0          3.0        5.0                3.0     ...        \n",
       "1            8.0          1.0       10.0                8.0     ...        \n",
       "2            9.0          6.0        9.0                9.0     ...        \n",
       "3           10.0          5.0       10.0               10.0     ...        \n",
       "4           10.0          3.0        7.0                8.0     ...        \n",
       "\n",
       "   s3_distance  s3_career  s3_partner_career  s3_communication  s3_your_time  \\\n",
       "0            4        7.0                  5               7.0           7.0   \n",
       "1            3       10.0                  8               8.0           7.0   \n",
       "2            6        8.0                  8               9.0           8.0   \n",
       "3            5       10.0                 10               6.0           9.0   \n",
       "4            3        7.0                  8               6.0           7.0   \n",
       "\n",
       "   s3_partner_time  s3_security  s3_family  s3_marriage  s3_decision  \n",
       "0              5.0          6.0        7.0          7.0            0  \n",
       "1              7.0          8.0        1.0          1.0            1  \n",
       "2              8.0          9.0        6.0          7.0            2  \n",
       "3              9.0          9.0        3.0         10.0            0  \n",
       "4              8.0         10.0        5.0          6.0            0  \n",
       "\n",
       "[5 rows x 27 columns]"
      ]
     },
     "execution_count": 4,
     "metadata": {},
     "output_type": "execute_result"
    }
   ],
   "source": [
    "# Turning decision alternatives --> numerical classes\n",
    "data = data.replace({'s1_decision': {'Continue to commit to the relationship': 1, \n",
    "                                         'Suggest to break-up with your partner': 0}})\n",
    "data = data.replace({'s2_decision': {'Accept their proposal to temporarily put a hiatus on communication within your relationship': 0, \n",
    "                                         'Decline their proposal and suggest communicating a lot less than before (perhaps once a week or month) rather than eliminating communication completely': 1,\n",
    "                                         'Decline their proposal & suggest to break up with your partner': 2}})\n",
    "data = data.replace({'s3_decision': {'Suggest the idea of marriage to your partner and potentially propose/be proposed to since you are both happy and stable in the relationship': 0, \n",
    "                                         'Not bring up the idea of marriage to your partner and wait for them to bring it up one day, sooner or later, instead; dismiss your family and friends’ suggestions for the time-being': 1,\n",
    "                                         'Subtly hint at the idea of marriage as a next step but not directly address this with your partner since you are both happy and stable in the relationship': 2,\n",
    "                                         'Propose to break up with your partner and move on': 3}})\n",
    "data.head()"
   ]
  },
  {
   "cell_type": "code",
   "execution_count": 5,
   "metadata": {},
   "outputs": [],
   "source": [
    "#converting all cell values to numeric float\n",
    "data = data.astype(float)"
   ]
  },
  {
   "cell_type": "markdown",
   "metadata": {},
   "source": [
    "# Scenario 1"
   ]
  },
  {
   "cell_type": "code",
   "execution_count": 6,
   "metadata": {},
   "outputs": [
    {
     "data": {
      "text/html": [
       "<div>\n",
       "<style scoped>\n",
       "    .dataframe tbody tr th:only-of-type {\n",
       "        vertical-align: middle;\n",
       "    }\n",
       "\n",
       "    .dataframe tbody tr th {\n",
       "        vertical-align: top;\n",
       "    }\n",
       "\n",
       "    .dataframe thead th {\n",
       "        text-align: right;\n",
       "    }\n",
       "</style>\n",
       "<table border=\"1\" class=\"dataframe\">\n",
       "  <thead>\n",
       "    <tr style=\"text-align: right;\">\n",
       "      <th></th>\n",
       "      <th>age</th>\n",
       "      <th>s1_commitment</th>\n",
       "      <th>s1_distance</th>\n",
       "      <th>s1_career</th>\n",
       "      <th>s1_partner_career</th>\n",
       "      <th>s1_decision</th>\n",
       "    </tr>\n",
       "  </thead>\n",
       "  <tbody>\n",
       "    <tr>\n",
       "      <th>0</th>\n",
       "      <td>18.0</td>\n",
       "      <td>3.0</td>\n",
       "      <td>1.0</td>\n",
       "      <td>6.0</td>\n",
       "      <td>1.0</td>\n",
       "      <td>1.0</td>\n",
       "    </tr>\n",
       "    <tr>\n",
       "      <th>1</th>\n",
       "      <td>14.0</td>\n",
       "      <td>7.0</td>\n",
       "      <td>1.0</td>\n",
       "      <td>10.0</td>\n",
       "      <td>8.0</td>\n",
       "      <td>1.0</td>\n",
       "    </tr>\n",
       "    <tr>\n",
       "      <th>2</th>\n",
       "      <td>13.0</td>\n",
       "      <td>8.0</td>\n",
       "      <td>6.0</td>\n",
       "      <td>8.0</td>\n",
       "      <td>8.0</td>\n",
       "      <td>1.0</td>\n",
       "    </tr>\n",
       "    <tr>\n",
       "      <th>3</th>\n",
       "      <td>13.0</td>\n",
       "      <td>10.0</td>\n",
       "      <td>6.0</td>\n",
       "      <td>10.0</td>\n",
       "      <td>10.0</td>\n",
       "      <td>1.0</td>\n",
       "    </tr>\n",
       "    <tr>\n",
       "      <th>4</th>\n",
       "      <td>13.0</td>\n",
       "      <td>10.0</td>\n",
       "      <td>3.0</td>\n",
       "      <td>7.0</td>\n",
       "      <td>8.0</td>\n",
       "      <td>1.0</td>\n",
       "    </tr>\n",
       "    <tr>\n",
       "      <th>5</th>\n",
       "      <td>14.0</td>\n",
       "      <td>4.0</td>\n",
       "      <td>4.0</td>\n",
       "      <td>3.0</td>\n",
       "      <td>4.0</td>\n",
       "      <td>1.0</td>\n",
       "    </tr>\n",
       "    <tr>\n",
       "      <th>6</th>\n",
       "      <td>14.0</td>\n",
       "      <td>7.0</td>\n",
       "      <td>5.0</td>\n",
       "      <td>6.0</td>\n",
       "      <td>7.0</td>\n",
       "      <td>1.0</td>\n",
       "    </tr>\n",
       "    <tr>\n",
       "      <th>7</th>\n",
       "      <td>13.0</td>\n",
       "      <td>10.0</td>\n",
       "      <td>6.0</td>\n",
       "      <td>9.0</td>\n",
       "      <td>10.0</td>\n",
       "      <td>1.0</td>\n",
       "    </tr>\n",
       "    <tr>\n",
       "      <th>8</th>\n",
       "      <td>14.0</td>\n",
       "      <td>3.0</td>\n",
       "      <td>3.0</td>\n",
       "      <td>3.0</td>\n",
       "      <td>2.0</td>\n",
       "      <td>1.0</td>\n",
       "    </tr>\n",
       "    <tr>\n",
       "      <th>9</th>\n",
       "      <td>14.0</td>\n",
       "      <td>10.0</td>\n",
       "      <td>10.0</td>\n",
       "      <td>10.0</td>\n",
       "      <td>10.0</td>\n",
       "      <td>1.0</td>\n",
       "    </tr>\n",
       "  </tbody>\n",
       "</table>\n",
       "</div>"
      ],
      "text/plain": [
       "    age  s1_commitment  s1_distance  s1_career  s1_partner_career  s1_decision\n",
       "0  18.0            3.0          1.0        6.0                1.0          1.0\n",
       "1  14.0            7.0          1.0       10.0                8.0          1.0\n",
       "2  13.0            8.0          6.0        8.0                8.0          1.0\n",
       "3  13.0           10.0          6.0       10.0               10.0          1.0\n",
       "4  13.0           10.0          3.0        7.0                8.0          1.0\n",
       "5  14.0            4.0          4.0        3.0                4.0          1.0\n",
       "6  14.0            7.0          5.0        6.0                7.0          1.0\n",
       "7  13.0           10.0          6.0        9.0               10.0          1.0\n",
       "8  14.0            3.0          3.0        3.0                2.0          1.0\n",
       "9  14.0           10.0         10.0       10.0               10.0          1.0"
      ]
     },
     "execution_count": 6,
     "metadata": {},
     "output_type": "execute_result"
    }
   ],
   "source": [
    "data_1 = data.iloc[:, 0:6]\n",
    "data_1.head(10)"
   ]
  },
  {
   "cell_type": "markdown",
   "metadata": {},
   "source": [
    "# Scenario 2"
   ]
  },
  {
   "cell_type": "code",
   "execution_count": 7,
   "metadata": {
    "scrolled": true
   },
   "outputs": [
    {
     "data": {
      "text/html": [
       "<div>\n",
       "<style scoped>\n",
       "    .dataframe tbody tr th:only-of-type {\n",
       "        vertical-align: middle;\n",
       "    }\n",
       "\n",
       "    .dataframe tbody tr th {\n",
       "        vertical-align: top;\n",
       "    }\n",
       "\n",
       "    .dataframe thead th {\n",
       "        text-align: right;\n",
       "    }\n",
       "</style>\n",
       "<table border=\"1\" class=\"dataframe\">\n",
       "  <thead>\n",
       "    <tr style=\"text-align: right;\">\n",
       "      <th></th>\n",
       "      <th>age</th>\n",
       "      <th>s2_commitment</th>\n",
       "      <th>s2_distance</th>\n",
       "      <th>s2_career</th>\n",
       "      <th>s2_partner_career</th>\n",
       "      <th>s2_communication</th>\n",
       "      <th>s2_your_time</th>\n",
       "      <th>s2_partner_time</th>\n",
       "      <th>s2_security</th>\n",
       "      <th>s2_compromise</th>\n",
       "      <th>s2_decision</th>\n",
       "    </tr>\n",
       "  </thead>\n",
       "  <tbody>\n",
       "    <tr>\n",
       "      <th>0</th>\n",
       "      <td>18.0</td>\n",
       "      <td>5.0</td>\n",
       "      <td>3.0</td>\n",
       "      <td>5.0</td>\n",
       "      <td>3.0</td>\n",
       "      <td>5.0</td>\n",
       "      <td>6.0</td>\n",
       "      <td>2.5</td>\n",
       "      <td>4.0</td>\n",
       "      <td>4.0</td>\n",
       "      <td>0.0</td>\n",
       "    </tr>\n",
       "    <tr>\n",
       "      <th>1</th>\n",
       "      <td>14.0</td>\n",
       "      <td>8.0</td>\n",
       "      <td>1.0</td>\n",
       "      <td>10.0</td>\n",
       "      <td>8.0</td>\n",
       "      <td>9.0</td>\n",
       "      <td>8.0</td>\n",
       "      <td>8.0</td>\n",
       "      <td>8.0</td>\n",
       "      <td>8.0</td>\n",
       "      <td>1.0</td>\n",
       "    </tr>\n",
       "    <tr>\n",
       "      <th>2</th>\n",
       "      <td>13.0</td>\n",
       "      <td>9.0</td>\n",
       "      <td>6.0</td>\n",
       "      <td>9.0</td>\n",
       "      <td>9.0</td>\n",
       "      <td>6.5</td>\n",
       "      <td>8.0</td>\n",
       "      <td>8.0</td>\n",
       "      <td>9.0</td>\n",
       "      <td>8.0</td>\n",
       "      <td>0.0</td>\n",
       "    </tr>\n",
       "    <tr>\n",
       "      <th>3</th>\n",
       "      <td>13.0</td>\n",
       "      <td>10.0</td>\n",
       "      <td>5.0</td>\n",
       "      <td>10.0</td>\n",
       "      <td>10.0</td>\n",
       "      <td>8.0</td>\n",
       "      <td>9.0</td>\n",
       "      <td>9.0</td>\n",
       "      <td>8.0</td>\n",
       "      <td>9.0</td>\n",
       "      <td>1.0</td>\n",
       "    </tr>\n",
       "    <tr>\n",
       "      <th>4</th>\n",
       "      <td>13.0</td>\n",
       "      <td>10.0</td>\n",
       "      <td>3.0</td>\n",
       "      <td>7.0</td>\n",
       "      <td>8.0</td>\n",
       "      <td>6.0</td>\n",
       "      <td>7.0</td>\n",
       "      <td>8.0</td>\n",
       "      <td>10.0</td>\n",
       "      <td>10.0</td>\n",
       "      <td>0.0</td>\n",
       "    </tr>\n",
       "    <tr>\n",
       "      <th>5</th>\n",
       "      <td>14.0</td>\n",
       "      <td>3.0</td>\n",
       "      <td>3.0</td>\n",
       "      <td>2.0</td>\n",
       "      <td>3.0</td>\n",
       "      <td>3.0</td>\n",
       "      <td>3.0</td>\n",
       "      <td>3.0</td>\n",
       "      <td>2.0</td>\n",
       "      <td>3.0</td>\n",
       "      <td>0.0</td>\n",
       "    </tr>\n",
       "    <tr>\n",
       "      <th>6</th>\n",
       "      <td>14.0</td>\n",
       "      <td>7.0</td>\n",
       "      <td>5.0</td>\n",
       "      <td>6.0</td>\n",
       "      <td>6.0</td>\n",
       "      <td>9.0</td>\n",
       "      <td>7.0</td>\n",
       "      <td>7.0</td>\n",
       "      <td>6.0</td>\n",
       "      <td>5.0</td>\n",
       "      <td>2.0</td>\n",
       "    </tr>\n",
       "    <tr>\n",
       "      <th>7</th>\n",
       "      <td>13.0</td>\n",
       "      <td>9.5</td>\n",
       "      <td>5.0</td>\n",
       "      <td>10.0</td>\n",
       "      <td>10.0</td>\n",
       "      <td>8.0</td>\n",
       "      <td>10.0</td>\n",
       "      <td>10.0</td>\n",
       "      <td>10.0</td>\n",
       "      <td>10.0</td>\n",
       "      <td>0.0</td>\n",
       "    </tr>\n",
       "    <tr>\n",
       "      <th>8</th>\n",
       "      <td>14.0</td>\n",
       "      <td>2.0</td>\n",
       "      <td>2.0</td>\n",
       "      <td>2.0</td>\n",
       "      <td>1.0</td>\n",
       "      <td>2.0</td>\n",
       "      <td>2.0</td>\n",
       "      <td>2.0</td>\n",
       "      <td>2.0</td>\n",
       "      <td>2.0</td>\n",
       "      <td>1.0</td>\n",
       "    </tr>\n",
       "    <tr>\n",
       "      <th>9</th>\n",
       "      <td>14.0</td>\n",
       "      <td>10.0</td>\n",
       "      <td>9.0</td>\n",
       "      <td>10.0</td>\n",
       "      <td>10.0</td>\n",
       "      <td>10.0</td>\n",
       "      <td>9.0</td>\n",
       "      <td>10.0</td>\n",
       "      <td>10.0</td>\n",
       "      <td>10.0</td>\n",
       "      <td>1.0</td>\n",
       "    </tr>\n",
       "  </tbody>\n",
       "</table>\n",
       "</div>"
      ],
      "text/plain": [
       "    age  s2_commitment  s2_distance  s2_career  s2_partner_career  \\\n",
       "0  18.0            5.0          3.0        5.0                3.0   \n",
       "1  14.0            8.0          1.0       10.0                8.0   \n",
       "2  13.0            9.0          6.0        9.0                9.0   \n",
       "3  13.0           10.0          5.0       10.0               10.0   \n",
       "4  13.0           10.0          3.0        7.0                8.0   \n",
       "5  14.0            3.0          3.0        2.0                3.0   \n",
       "6  14.0            7.0          5.0        6.0                6.0   \n",
       "7  13.0            9.5          5.0       10.0               10.0   \n",
       "8  14.0            2.0          2.0        2.0                1.0   \n",
       "9  14.0           10.0          9.0       10.0               10.0   \n",
       "\n",
       "   s2_communication  s2_your_time  s2_partner_time  s2_security  \\\n",
       "0               5.0           6.0              2.5          4.0   \n",
       "1               9.0           8.0              8.0          8.0   \n",
       "2               6.5           8.0              8.0          9.0   \n",
       "3               8.0           9.0              9.0          8.0   \n",
       "4               6.0           7.0              8.0         10.0   \n",
       "5               3.0           3.0              3.0          2.0   \n",
       "6               9.0           7.0              7.0          6.0   \n",
       "7               8.0          10.0             10.0         10.0   \n",
       "8               2.0           2.0              2.0          2.0   \n",
       "9              10.0           9.0             10.0         10.0   \n",
       "\n",
       "   s2_compromise  s2_decision  \n",
       "0            4.0          0.0  \n",
       "1            8.0          1.0  \n",
       "2            8.0          0.0  \n",
       "3            9.0          1.0  \n",
       "4           10.0          0.0  \n",
       "5            3.0          0.0  \n",
       "6            5.0          2.0  \n",
       "7           10.0          0.0  \n",
       "8            2.0          1.0  \n",
       "9           10.0          1.0  "
      ]
     },
     "execution_count": 7,
     "metadata": {},
     "output_type": "execute_result"
    }
   ],
   "source": [
    "data_2 = data[['age', 's2_commitment','s2_distance','s2_career','s2_partner_career','s2_communication',\n",
    "               's2_your_time','s2_partner_time','s2_security','s2_compromise','s2_decision']]\n",
    "data_2.head(10)"
   ]
  },
  {
   "cell_type": "markdown",
   "metadata": {},
   "source": [
    "# Scenario 3"
   ]
  },
  {
   "cell_type": "code",
   "execution_count": 8,
   "metadata": {},
   "outputs": [
    {
     "data": {
      "text/html": [
       "<div>\n",
       "<style scoped>\n",
       "    .dataframe tbody tr th:only-of-type {\n",
       "        vertical-align: middle;\n",
       "    }\n",
       "\n",
       "    .dataframe tbody tr th {\n",
       "        vertical-align: top;\n",
       "    }\n",
       "\n",
       "    .dataframe thead th {\n",
       "        text-align: right;\n",
       "    }\n",
       "</style>\n",
       "<table border=\"1\" class=\"dataframe\">\n",
       "  <thead>\n",
       "    <tr style=\"text-align: right;\">\n",
       "      <th></th>\n",
       "      <th>age</th>\n",
       "      <th>s3_commitment</th>\n",
       "      <th>s3_distance</th>\n",
       "      <th>s3_career</th>\n",
       "      <th>s3_partner_career</th>\n",
       "      <th>s3_communication</th>\n",
       "      <th>s3_your_time</th>\n",
       "      <th>s3_partner_time</th>\n",
       "      <th>s3_security</th>\n",
       "      <th>s3_family</th>\n",
       "      <th>s3_marriage</th>\n",
       "      <th>s3_decision</th>\n",
       "    </tr>\n",
       "  </thead>\n",
       "  <tbody>\n",
       "    <tr>\n",
       "      <th>0</th>\n",
       "      <td>18.0</td>\n",
       "      <td>6.0</td>\n",
       "      <td>4.0</td>\n",
       "      <td>7.0</td>\n",
       "      <td>5.0</td>\n",
       "      <td>7.0</td>\n",
       "      <td>7.0</td>\n",
       "      <td>5.0</td>\n",
       "      <td>6.0</td>\n",
       "      <td>7.0</td>\n",
       "      <td>7.0</td>\n",
       "      <td>0.0</td>\n",
       "    </tr>\n",
       "    <tr>\n",
       "      <th>1</th>\n",
       "      <td>14.0</td>\n",
       "      <td>8.0</td>\n",
       "      <td>3.0</td>\n",
       "      <td>10.0</td>\n",
       "      <td>8.0</td>\n",
       "      <td>8.0</td>\n",
       "      <td>7.0</td>\n",
       "      <td>7.0</td>\n",
       "      <td>8.0</td>\n",
       "      <td>1.0</td>\n",
       "      <td>1.0</td>\n",
       "      <td>1.0</td>\n",
       "    </tr>\n",
       "    <tr>\n",
       "      <th>2</th>\n",
       "      <td>13.0</td>\n",
       "      <td>8.0</td>\n",
       "      <td>6.0</td>\n",
       "      <td>8.0</td>\n",
       "      <td>8.0</td>\n",
       "      <td>9.0</td>\n",
       "      <td>8.0</td>\n",
       "      <td>8.0</td>\n",
       "      <td>9.0</td>\n",
       "      <td>6.0</td>\n",
       "      <td>7.0</td>\n",
       "      <td>2.0</td>\n",
       "    </tr>\n",
       "    <tr>\n",
       "      <th>3</th>\n",
       "      <td>13.0</td>\n",
       "      <td>10.0</td>\n",
       "      <td>5.0</td>\n",
       "      <td>10.0</td>\n",
       "      <td>10.0</td>\n",
       "      <td>6.0</td>\n",
       "      <td>9.0</td>\n",
       "      <td>9.0</td>\n",
       "      <td>9.0</td>\n",
       "      <td>3.0</td>\n",
       "      <td>10.0</td>\n",
       "      <td>0.0</td>\n",
       "    </tr>\n",
       "    <tr>\n",
       "      <th>4</th>\n",
       "      <td>13.0</td>\n",
       "      <td>10.0</td>\n",
       "      <td>3.0</td>\n",
       "      <td>7.0</td>\n",
       "      <td>8.0</td>\n",
       "      <td>6.0</td>\n",
       "      <td>7.0</td>\n",
       "      <td>8.0</td>\n",
       "      <td>10.0</td>\n",
       "      <td>5.0</td>\n",
       "      <td>6.0</td>\n",
       "      <td>0.0</td>\n",
       "    </tr>\n",
       "  </tbody>\n",
       "</table>\n",
       "</div>"
      ],
      "text/plain": [
       "    age  s3_commitment  s3_distance  s3_career  s3_partner_career  \\\n",
       "0  18.0            6.0          4.0        7.0                5.0   \n",
       "1  14.0            8.0          3.0       10.0                8.0   \n",
       "2  13.0            8.0          6.0        8.0                8.0   \n",
       "3  13.0           10.0          5.0       10.0               10.0   \n",
       "4  13.0           10.0          3.0        7.0                8.0   \n",
       "\n",
       "   s3_communication  s3_your_time  s3_partner_time  s3_security  s3_family  \\\n",
       "0               7.0           7.0              5.0          6.0        7.0   \n",
       "1               8.0           7.0              7.0          8.0        1.0   \n",
       "2               9.0           8.0              8.0          9.0        6.0   \n",
       "3               6.0           9.0              9.0          9.0        3.0   \n",
       "4               6.0           7.0              8.0         10.0        5.0   \n",
       "\n",
       "   s3_marriage  s3_decision  \n",
       "0          7.0          0.0  \n",
       "1          1.0          1.0  \n",
       "2          7.0          2.0  \n",
       "3         10.0          0.0  \n",
       "4          6.0          0.0  "
      ]
     },
     "execution_count": 8,
     "metadata": {},
     "output_type": "execute_result"
    }
   ],
   "source": [
    "data_3 = data[['age', 's3_commitment','s3_distance','s3_career','s3_partner_career','s3_communication',\n",
    "               's3_your_time','s3_partner_time','s3_security', 's3_family','s3_marriage','s3_decision']]\n",
    "data_3.head()"
   ]
  },
  {
   "cell_type": "code",
   "execution_count": 9,
   "metadata": {},
   "outputs": [],
   "source": [
    "# Normalizes the priority values for each row in sub-dataframe. \n",
    "# Returns a DF with normalized priority data values.\n",
    "def normalize(data): \n",
    "    data_copy = data.copy()\n",
    "    indices = data_copy.index\n",
    "    \n",
    "    for row in indices: \n",
    "        values = data_copy.loc[row, :].values[1:len(data_copy.columns)-1]\n",
    "        total = sum(values)\n",
    "        norm_values = (values / total) * 100\n",
    "        data_copy.loc[row, 1:len(data_copy.columns)-1] = norm_values\n",
    "    return data_copy"
   ]
  },
  {
   "cell_type": "code",
   "execution_count": 10,
   "metadata": {},
   "outputs": [],
   "source": [
    "#Normalize and round data to 2 decimal places.\n",
    "norm_data1 = normalize(data_1).round(2)\n",
    "norm_data2 = normalize(data_2).round(2)\n",
    "norm_data3 = normalize(data_3).round(2)"
   ]
  },
  {
   "cell_type": "markdown",
   "metadata": {},
   "source": [
    "# Train / Test Split"
   ]
  },
  {
   "cell_type": "code",
   "execution_count": 11,
   "metadata": {},
   "outputs": [],
   "source": [
    "#scenario 1\n",
    "#split by classes, then split each class into train and test; merge train and test dfs\n",
    "\n",
    "s1_class0 = norm_data1[norm_data1['s1_decision'] == 0]\n",
    "s1_class1 = norm_data1[norm_data1['s1_decision'] == 1]\n",
    "\n",
    "X1_class0 = s1_class0.iloc[:, 0:5]\n",
    "y1_class0 = s1_class0['s1_decision']\n",
    "X1_class0_train, X1_class0_test, y1_class0_train, y1_class0_test = train_test_split(X1_class0, y1_class0, test_size=0.20, random_state=42)\n",
    "\n",
    "X1_class1 = s1_class1.iloc[:, 0:5]\n",
    "y1_class1 = s1_class1['s1_decision']\n",
    "X1_class1_train, X1_class1_test, y1_class1_train, y1_class1_test = train_test_split(X1_class1, y1_class1, test_size=0.20, random_state=42)\n",
    "\n",
    "\n",
    "X1_train = X1_class0_train.append(X1_class1_train)\n",
    "y1_train = y1_class0_train.append(y1_class1_train)\n",
    "X1_test = X1_class0_test.append(X1_class1_test)\n",
    "y1_test = y1_class0_test.append(y1_class1_test)"
   ]
  },
  {
   "cell_type": "code",
   "execution_count": 12,
   "metadata": {},
   "outputs": [],
   "source": [
    "#scenario 2\n",
    "s2_class0 = norm_data2[norm_data2['s2_decision'] == 0]\n",
    "s2_class1 = norm_data2[norm_data2['s2_decision'] == 1]\n",
    "s2_class2 = norm_data2[norm_data2['s2_decision'] == 2]\n",
    "\n",
    "X2_class0 = s2_class0.iloc[:, 0:10]\n",
    "y2_class0 = s2_class0['s2_decision']\n",
    "X2_class0_train, X2_class0_test, y2_class0_train, y2_class0_test = train_test_split(X2_class0, y2_class0, test_size=0.20, random_state=42)\n",
    "\n",
    "X2_class1 = s2_class1.iloc[:, 0:10]\n",
    "y2_class1 = s2_class1['s2_decision']\n",
    "X2_class1_train, X2_class1_test, y2_class1_train, y2_class1_test = train_test_split(X2_class1, y2_class1, test_size=0.20, random_state=42)\n",
    "\n",
    "X2_class2 = s2_class2.iloc[:, 0:10]\n",
    "y2_class2 = s2_class2['s2_decision']\n",
    "X2_class2_train, X2_class2_test, y2_class2_train, y2_class2_test = train_test_split(X2_class2, y2_class2, test_size=0.20, random_state=42)\n",
    "\n",
    "\n",
    "X2_train = X2_class0_train.append(X2_class1_train).append(X2_class2_train)\n",
    "y2_train = y2_class0_train.append(y2_class1_train).append(y2_class2_train)\n",
    "X2_test = X2_class0_test.append(X2_class1_test).append(X2_class2_test)\n",
    "y2_test = y2_class0_test.append(y2_class1_test).append(y2_class2_test)"
   ]
  },
  {
   "cell_type": "code",
   "execution_count": 13,
   "metadata": {},
   "outputs": [],
   "source": [
    "#scenario 3\n",
    "s3_class0 = norm_data3[norm_data3['s3_decision'] == 0]\n",
    "s3_class1 = norm_data3[norm_data3['s3_decision'] == 1]\n",
    "s3_class2 = norm_data3[norm_data3['s3_decision'] == 2]\n",
    "s3_class3 = norm_data3[norm_data3['s3_decision'] == 3]\n",
    "\n",
    "X3_class0 = s3_class0.iloc[:, 0:11]\n",
    "y3_class0 = s3_class0['s3_decision']\n",
    "X3_class0_train, X3_class0_test, y3_class0_train, y3_class0_test = train_test_split(X3_class0, y3_class0, test_size=0.20, random_state=42)\n",
    "\n",
    "X3_class1 = s3_class1.iloc[:, 0:11]\n",
    "y3_class1 = s3_class1['s3_decision']\n",
    "X3_class1_train, X3_class1_test, y3_class1_train, y3_class1_test = train_test_split(X3_class1, y3_class1, test_size=0.20, random_state=42)\n",
    "\n",
    "X3_class2 = s3_class2.iloc[:, 0:11]\n",
    "y3_class2 = s3_class2['s3_decision']\n",
    "X3_class2_train, X3_class2_test, y3_class2_train, y3_class2_test = train_test_split(X3_class2, y3_class2, test_size=0.20, random_state=42)\n",
    "\n",
    "X3_class3 = s3_class3.iloc[:, 0:11]\n",
    "y3_class3 = s3_class3['s3_decision']\n",
    "X3_class3_train, X3_class3_test, y3_class3_train, y3_class3_test = train_test_split(X3_class3, y3_class3, test_size=0.20, random_state=42)\n",
    "\n",
    "X3_train = X3_class0_train.append(X3_class1_train).append(X3_class2_train).append(X3_class3_train)\n",
    "y3_train = y3_class0_train.append(y3_class1_train).append(y3_class2_train).append(y3_class3_train)\n",
    "X3_test = X3_class0_test.append(X3_class1_test).append(X3_class2_test).append(X3_class3_test)\n",
    "y3_test = y3_class0_test.append(y3_class1_test).append(y3_class2_test).append(y3_class3_test)"
   ]
  },
  {
   "cell_type": "markdown",
   "metadata": {},
   "source": [
    "# Logit Models : All Features"
   ]
  },
  {
   "cell_type": "markdown",
   "metadata": {},
   "source": [
    "Assessment functions:"
   ]
  },
  {
   "cell_type": "code",
   "execution_count": 14,
   "metadata": {},
   "outputs": [],
   "source": [
    "#overall percent accurate\n",
    "def overall_percent_accuracy(actual_decision, predictions):\n",
    "    return sum(actual_decision == predictions) / len(actual_decision)\n",
    "\n",
    "#percent accurate per decision\n",
    "def percent_acc_per_class(actual_decisions, predictions, decision_class):\n",
    "    df = pd.DataFrame({'actual' : actual_decisions, 'prediction': predictions})\n",
    "    df = df.loc[df['actual'] == decision_class, :]\n",
    "    if len(df) > 0:\n",
    "        return sum(df['actual'] == df['prediction']) / len(df)\n",
    "    else: \n",
    "        return np.nan"
   ]
  },
  {
   "cell_type": "markdown",
   "metadata": {},
   "source": [
    "# Scenario 1\n"
   ]
  },
  {
   "cell_type": "markdown",
   "metadata": {},
   "source": [
    "FEATURES: \n",
    "FEATURE 1 - AGE\n",
    "F2 - COMMITMENT\n",
    "F3 - DISTANCE\n",
    "F4 - CAREER \n",
    "F5 - PARTNER CAREER"
   ]
  },
  {
   "cell_type": "code",
   "execution_count": 15,
   "metadata": {},
   "outputs": [
    {
     "name": "stdout",
     "output_type": "stream",
     "text": [
      "coef_1 is [[ 0.06749925  0.08090934 -0.0186473   0.04756787 -0.07176826]]\n",
      "intercept is [0.00036613]\n"
     ]
    }
   ],
   "source": [
    "logit_model_1 = LogisticRegression(multi_class = 'ovr', solver = 'liblinear', \n",
    "                                   class_weight = {0: 0.5, 1:0.5}, random_state=0).fit(X1_train, y1_train)\n",
    "prediction_1 = logit_model_1.predict(X1_train)\n",
    "probs_1 = logit_model_1.predict_proba(X1_train)\n",
    "coef_1 = logit_model_1.coef_ #Is this B0 or B1?\n",
    "intercept_1 = logit_model_1.intercept_\n",
    "print('coef_1 is', coef_1)\n",
    "print('intercept is', intercept_1) "
   ]
  },
  {
   "cell_type": "code",
   "execution_count": 16,
   "metadata": {},
   "outputs": [
    {
     "name": "stdout",
     "output_type": "stream",
     "text": [
      "s1 overall accuracy is 0.9242424242424242\n",
      "class 0 accuracy is 0.0\n",
      "class 1 accuracy is 1.0\n"
     ]
    }
   ],
   "source": [
    "#accuracies of scenario 1 logit models\n",
    "s1_overall_acc = overall_percent_accuracy(y1_train, prediction_1)\n",
    "s1_acc_class0 = percent_acc_per_class(y1_train, prediction_1, 0)\n",
    "s1_acc_class1 = percent_acc_per_class(y1_train, prediction_1, 1)\n",
    "print('s1 overall accuracy is', s1_overall_acc)\n",
    "print('class 0 accuracy is', s1_acc_class0)\n",
    "print('class 1 accuracy is', s1_acc_class1)"
   ]
  },
  {
   "cell_type": "markdown",
   "metadata": {},
   "source": [
    "### Dataset balancing using class_weight='balanced'\n",
    "\n",
    "Penalizes the misclassification of the minority class more than the misclassification of the majority class by weighting the loss of each sample by its class weight."
   ]
  },
  {
   "cell_type": "code",
   "execution_count": 17,
   "metadata": {},
   "outputs": [
    {
     "name": "stdout",
     "output_type": "stream",
     "text": [
      "coef_1 is [[ 0.1296166   0.05868102 -0.07524433  0.06669653 -0.16321679]]\n",
      "intercept is [-0.00159057]\n"
     ]
    }
   ],
   "source": [
    "logit_model_1_balanced = LogisticRegression(multi_class = 'ovr', solver = 'liblinear', \n",
    "                                   class_weight = 'balanced', random_state=0).fit(X1_train, y1_train)\n",
    "prediction_1_balanced = logit_model_1_balanced.predict(X1_train)\n",
    "probs_1_balanced = logit_model_1_balanced.predict_proba(X1_train)\n",
    "coef_1_balanced = logit_model_1_balanced.coef_ #Is this B0 or B1?\n",
    "intercept_1_balanced = logit_model_1_balanced.intercept_\n",
    "print('coef_1 is', coef_1_balanced)\n",
    "print('intercept is', intercept_1_balanced) "
   ]
  },
  {
   "cell_type": "code",
   "execution_count": 18,
   "metadata": {},
   "outputs": [
    {
     "name": "stdout",
     "output_type": "stream",
     "text": [
      "s1 overall accuracy is 0.5909090909090909\n",
      "class 0 accuracy is 0.8\n",
      "class 1 accuracy is 0.5737704918032787\n"
     ]
    }
   ],
   "source": [
    "#accuracies of scenario 1 balanced logit models\n",
    "s1_overall_acc_balanced = overall_percent_accuracy(y1_train, prediction_1_balanced)\n",
    "s1_acc_class0_balanced = percent_acc_per_class(y1_train, prediction_1_balanced, 0)\n",
    "s1_acc_class1_balanced = percent_acc_per_class(y1_train, prediction_1_balanced, 1)\n",
    "print('s1 overall accuracy is', s1_overall_acc_balanced)\n",
    "print('class 0 accuracy is', s1_acc_class0_balanced)\n",
    "print('class 1 accuracy is', s1_acc_class1_balanced)"
   ]
  },
  {
   "cell_type": "markdown",
   "metadata": {},
   "source": [
    "### Dataset balancing using RandomOverSampler\n",
    "\n",
    "Creates new data by randomly resampling from the minority class until it is the same size as the majority class."
   ]
  },
  {
   "cell_type": "code",
   "execution_count": 19,
   "metadata": {},
   "outputs": [
    {
     "name": "stdout",
     "output_type": "stream",
     "text": [
      "coef_1 is [[ 0.15241212  0.03272325 -0.07968258  0.06975754 -0.15027916]]\n",
      "intercept is [-0.00131733]\n"
     ]
    }
   ],
   "source": [
    "# resample dataset\n",
    "ros = RandomOverSampler(random_state=42)\n",
    "X1_train_os, y1_train_os = ros.fit_sample(X1_train, y1_train)\n",
    "\n",
    "logit_model_1_os = LogisticRegression(multi_class = 'ovr', solver = 'liblinear', \n",
    "                                      random_state=0).fit(X1_train_os, y1_train_os)\n",
    "prediction_1_os = logit_model_1_os.predict(X1_train_os)\n",
    "probs_1_os = logit_model_1_os.predict_proba(X1_train_os)\n",
    "coef_1_os = logit_model_1_os.coef_ #Is this B0 or B1?\n",
    "intercept_1_os = logit_model_1_os.intercept_\n",
    "print('coef_1 is', coef_1_os)\n",
    "print('intercept is', intercept_1_os) "
   ]
  },
  {
   "cell_type": "code",
   "execution_count": 20,
   "metadata": {},
   "outputs": [
    {
     "name": "stdout",
     "output_type": "stream",
     "text": [
      "s1 overall accuracy is 0.7213114754098361\n",
      "class 0 accuracy is 0.8032786885245902\n",
      "class 1 accuracy is 0.639344262295082\n"
     ]
    }
   ],
   "source": [
    "#accuracies of scenario 1 balanced logit models\n",
    "s1_overall_acc_os = overall_percent_accuracy(y1_train_os, prediction_1_os)\n",
    "s1_acc_class0_os = percent_acc_per_class(y1_train_os, prediction_1_os, 0)\n",
    "s1_acc_class1_os = percent_acc_per_class(y1_train_os, prediction_1_os, 1)\n",
    "print('s1 overall accuracy is', s1_overall_acc_os)\n",
    "print('class 0 accuracy is', s1_acc_class0_os)\n",
    "print('class 1 accuracy is', s1_acc_class1_os)"
   ]
  },
  {
   "cell_type": "markdown",
   "metadata": {},
   "source": [
    "### Dataset balancing using SMOTE (another oversampling method)\n",
    "\n",
    "SMOTE (Synthetic Minority Oversampling Technique) works by selecting examples that are close in the feature space, drawing a line between the examples in the feature space and drawing a new sample at a point along that line."
   ]
  },
  {
   "cell_type": "code",
   "execution_count": 21,
   "metadata": {},
   "outputs": [
    {
     "name": "stdout",
     "output_type": "stream",
     "text": [
      "coef_1 is [[ 0.12375419  0.07862248 -0.06293331  0.06455672 -0.1865827 ]]\n",
      "intercept is [-0.00110049]\n"
     ]
    }
   ],
   "source": [
    "# resample dataset\n",
    "ros_smote = SMOTE(random_state=42, k_neighbors = 4)\n",
    "X1_train_smote, y1_train_smote = ros_smote.fit_sample(X1_train, y1_train)\n",
    "\n",
    "logit_model_1_smote = LogisticRegression(multi_class = 'ovr', solver = 'liblinear', \n",
    "                                      random_state=0).fit(X1_train_smote, y1_train_smote)\n",
    "prediction_1_smote = logit_model_1_smote.predict(X1_train_smote)\n",
    "probs_1_smote = logit_model_1_smote.predict_proba(X1_train_smote)\n",
    "coef_1_smote = logit_model_1_smote.coef_ #Is this B0 or B1?\n",
    "intercept_1_smote = logit_model_1_smote.intercept_\n",
    "print('coef_1 is', coef_1_smote)\n",
    "print('intercept is', intercept_1_smote) "
   ]
  },
  {
   "cell_type": "code",
   "execution_count": 22,
   "metadata": {},
   "outputs": [
    {
     "name": "stdout",
     "output_type": "stream",
     "text": [
      "s1 overall accuracy is 0.6557377049180327\n",
      "class 0 accuracy is 0.7377049180327869\n",
      "class 1 accuracy is 0.5737704918032787\n"
     ]
    }
   ],
   "source": [
    "#accuracies of scenario 1 balanced logit models\n",
    "s1_overall_acc_smote = overall_percent_accuracy(y1_train_smote, prediction_1_smote)\n",
    "s1_acc_class0_smote = percent_acc_per_class(y1_train_smote, prediction_1_smote, 0)\n",
    "s1_acc_class1_smote = percent_acc_per_class(y1_train_smote, prediction_1_smote, 1)\n",
    "print('s1 overall accuracy is', s1_overall_acc_smote)\n",
    "print('class 0 accuracy is', s1_acc_class0_smote)\n",
    "print('class 1 accuracy is', s1_acc_class1_smote)"
   ]
  },
  {
   "cell_type": "markdown",
   "metadata": {},
   "source": [
    "### Dataset balancing using RandomUnderSampler\n",
    "\n",
    "Uses a subset of the majority class by sampling from the majority class until it is the same size as the minority class.\n",
    "\n",
    "Probably don't want to use this one since we'd be training on too little samples, but just ran it anyway to see."
   ]
  },
  {
   "cell_type": "code",
   "execution_count": 23,
   "metadata": {},
   "outputs": [
    {
     "name": "stdout",
     "output_type": "stream",
     "text": [
      "coef_1 is [[ 0.23874136  0.08044509 -0.08685134  0.01946843 -0.21214738]]\n",
      "intercept is [-0.0020063]\n"
     ]
    }
   ],
   "source": [
    "# resample dataset\n",
    "rus = RandomUnderSampler(random_state=42)\n",
    "X1_train_us, y1_train_us = rus.fit_sample(X1_train, y1_train)\n",
    "\n",
    "logit_model_1_us = LogisticRegression(multi_class = 'ovr', solver = 'liblinear', \n",
    "                                      random_state=0).fit(X1_train_us, y1_train_us)\n",
    "prediction_1_us = logit_model_1_us.predict(X1_train_us)\n",
    "probs_1_us = logit_model_1_us.predict_proba(X1_train_us)\n",
    "coef_1_us = logit_model_1_us.coef_ #Is this B0 or B1?\n",
    "intercept_1_us = logit_model_1_us.intercept_\n",
    "print('coef_1 is', coef_1_us)\n",
    "print('intercept is', intercept_1_us) "
   ]
  },
  {
   "cell_type": "code",
   "execution_count": 24,
   "metadata": {},
   "outputs": [
    {
     "name": "stdout",
     "output_type": "stream",
     "text": [
      "s1 overall accuracy is 0.8\n",
      "class 0 accuracy is 0.8\n",
      "class 1 accuracy is 0.8\n"
     ]
    }
   ],
   "source": [
    "#accuracies of scenario 1 balanced logit models\n",
    "s1_overall_acc_us = overall_percent_accuracy(y1_train_us, prediction_1_us)\n",
    "s1_acc_class0_us = percent_acc_per_class(y1_train_us, prediction_1_us, 0)\n",
    "s1_acc_class1_us = percent_acc_per_class(y1_train_us, prediction_1_us, 1)\n",
    "print('s1 overall accuracy is', s1_overall_acc_us)\n",
    "print('class 0 accuracy is', s1_acc_class0_us)\n",
    "print('class 1 accuracy is', s1_acc_class1_us)"
   ]
  },
  {
   "cell_type": "markdown",
   "metadata": {},
   "source": [
    "# Scenario 2"
   ]
  },
  {
   "cell_type": "markdown",
   "metadata": {},
   "source": [
    "FEATURES: \n",
    "\n",
    "FEATURE 1 - AGE\n",
    "F2 - COMMITMENT\n",
    "F3 - DISTANCE\n",
    "F4 - CAREER \n",
    "F5 - PARTNER CAREER\n",
    "F6 - COMMUNICATION\n",
    "F7 - YOUR TIME\n",
    "F8 - PARTNER TIME\n",
    "F9 - SECURITY\n",
    "F10 - COMPROMISE\n"
   ]
  },
  {
   "cell_type": "code",
   "execution_count": 25,
   "metadata": {},
   "outputs": [
    {
     "name": "stdout",
     "output_type": "stream",
     "text": [
      "coef_2 is [[ 0.03652514 -0.04405781 -0.01079064 -0.36236267  0.29415102 -0.13567996\n",
      "  -0.08797653  0.18410706 -0.15191982  0.34609442]\n",
      " [ 0.14479592  0.16169266 -0.09465949  0.65324157 -0.36846094  0.00192706\n",
      "  -0.44965251  0.41335367 -0.03526419 -0.35173456]\n",
      " [-0.55204745 -0.1770334   0.29883912 -0.38178328  0.04355849  0.65693067\n",
      "   0.13698815 -0.98185319  0.34819416  0.09408858]]\n",
      "intercept is [-1.6129546  -2.02123075  6.58155584]\n"
     ]
    }
   ],
   "source": [
    "logit_model_2 = LogisticRegression(multi_class = 'ovr', solver = 'newton-cg', random_state=0).fit(X2_train, y2_train)\n",
    "prediction_2 = logit_model_2.predict(X2_train)\n",
    "probs_2 = logit_model_2.predict_proba(X2_train)\n",
    "coef_2 = logit_model_2.coef_\n",
    "intercept_2 = logit_model_2.intercept_\n",
    "print('coef_2 is', coef_2)\n",
    "print('intercept is', intercept_2) "
   ]
  },
  {
   "cell_type": "code",
   "execution_count": 26,
   "metadata": {},
   "outputs": [
    {
     "name": "stdout",
     "output_type": "stream",
     "text": [
      "s2 overall accuracy is 0.6515151515151515\n",
      "class 0 accuracy is 0.25\n",
      "class 1 accuracy is 0.868421052631579\n",
      "class 2 accuracy is 0.625\n"
     ]
    }
   ],
   "source": [
    "#accuracies of scenario 2 logit models\n",
    "s2_overall_acc = overall_percent_accuracy(y2_train, prediction_2)\n",
    "s2_acc_class0 = percent_acc_per_class(y2_train, prediction_2, 0)\n",
    "s2_acc_class1 = percent_acc_per_class(y2_train, prediction_2, 1)\n",
    "s2_acc_class2 = percent_acc_per_class(y2_train, prediction_2, 2)\n",
    "print('s2 overall accuracy is', s2_overall_acc)\n",
    "print('class 0 accuracy is', s2_acc_class0)\n",
    "print('class 1 accuracy is', s2_acc_class1)\n",
    "print('class 2 accuracy is', s2_acc_class2)"
   ]
  },
  {
   "cell_type": "markdown",
   "metadata": {},
   "source": [
    "### Dataset balancing using class_weight='balanced'\n",
    "\n",
    "Penalizes the misclassification of the minority class more than the misclassification of the majority class by weighting the loss of each sample by its class weight."
   ]
  },
  {
   "cell_type": "code",
   "execution_count": 27,
   "metadata": {},
   "outputs": [
    {
     "data": {
      "text/html": [
       "<div>\n",
       "<style scoped>\n",
       "    .dataframe tbody tr th:only-of-type {\n",
       "        vertical-align: middle;\n",
       "    }\n",
       "\n",
       "    .dataframe tbody tr th {\n",
       "        vertical-align: top;\n",
       "    }\n",
       "\n",
       "    .dataframe thead th {\n",
       "        text-align: right;\n",
       "    }\n",
       "</style>\n",
       "<table border=\"1\" class=\"dataframe\">\n",
       "  <thead>\n",
       "    <tr style=\"text-align: right;\">\n",
       "      <th></th>\n",
       "      <th>age</th>\n",
       "      <th>s2_commitment</th>\n",
       "      <th>s2_distance</th>\n",
       "      <th>s2_communication</th>\n",
       "      <th>s2_partner_time</th>\n",
       "      <th>s2_security</th>\n",
       "      <th>s2_compromise</th>\n",
       "    </tr>\n",
       "  </thead>\n",
       "  <tbody>\n",
       "    <tr>\n",
       "      <th>20</th>\n",
       "      <td>14.0</td>\n",
       "      <td>19.609665</td>\n",
       "      <td>5.885998</td>\n",
       "      <td>17.642503</td>\n",
       "      <td>17.642503</td>\n",
       "      <td>19.609665</td>\n",
       "      <td>19.609665</td>\n",
       "    </tr>\n",
       "    <tr>\n",
       "      <th>48</th>\n",
       "      <td>21.0</td>\n",
       "      <td>17.025690</td>\n",
       "      <td>14.887506</td>\n",
       "      <td>12.765278</td>\n",
       "      <td>21.270145</td>\n",
       "      <td>17.025690</td>\n",
       "      <td>17.025690</td>\n",
       "    </tr>\n",
       "    <tr>\n",
       "      <th>2</th>\n",
       "      <td>13.0</td>\n",
       "      <td>19.351318</td>\n",
       "      <td>12.911274</td>\n",
       "      <td>13.987213</td>\n",
       "      <td>17.199439</td>\n",
       "      <td>19.351318</td>\n",
       "      <td>17.199439</td>\n",
       "    </tr>\n",
       "    <tr>\n",
       "      <th>76</th>\n",
       "      <td>20.0</td>\n",
       "      <td>21.734234</td>\n",
       "      <td>8.703346</td>\n",
       "      <td>21.734234</td>\n",
       "      <td>17.390605</td>\n",
       "      <td>8.703346</td>\n",
       "      <td>21.734234</td>\n",
       "    </tr>\n",
       "    <tr>\n",
       "      <th>10</th>\n",
       "      <td>13.0</td>\n",
       "      <td>17.539150</td>\n",
       "      <td>15.794183</td>\n",
       "      <td>15.794183</td>\n",
       "      <td>17.539150</td>\n",
       "      <td>15.794183</td>\n",
       "      <td>17.539150</td>\n",
       "    </tr>\n",
       "  </tbody>\n",
       "</table>\n",
       "</div>"
      ],
      "text/plain": [
       "     age  s2_commitment  s2_distance  s2_communication  s2_partner_time  \\\n",
       "20  14.0      19.609665     5.885998         17.642503        17.642503   \n",
       "48  21.0      17.025690    14.887506         12.765278        21.270145   \n",
       "2   13.0      19.351318    12.911274         13.987213        17.199439   \n",
       "76  20.0      21.734234     8.703346         21.734234        17.390605   \n",
       "10  13.0      17.539150    15.794183         15.794183        17.539150   \n",
       "\n",
       "    s2_security  s2_compromise  \n",
       "20    19.609665      19.609665  \n",
       "48    17.025690      17.025690  \n",
       "2     19.351318      17.199439  \n",
       "76     8.703346      21.734234  \n",
       "10    15.794183      17.539150  "
      ]
     },
     "execution_count": 27,
     "metadata": {},
     "output_type": "execute_result"
    }
   ],
   "source": [
    "df = norm_data2.loc[np.array(X2_train.index), :][['age', 's2_commitment', 's2_distance', 's2_communication',\n",
    "                                                  's2_partner_time', 's2_security', 's2_compromise', 's2_decision']]\n",
    "df = normalize(df)\n",
    "d_y2_train = df['s2_decision']\n",
    "d_X2_train = df.drop(['s2_decision'], axis = 1)\n",
    "d_X2_train.head()"
   ]
  },
  {
   "cell_type": "code",
   "execution_count": 28,
   "metadata": {},
   "outputs": [
    {
     "name": "stdout",
     "output_type": "stream",
     "text": [
      "coef_2 is [[ 0.2284229   0.02621836 -0.03109945 -0.32777722  0.36475219 -0.07759628\n",
      "   0.04544476]\n",
      " [ 0.2840156   0.06207761 -0.07570234 -0.1997155   0.44751345 -0.047684\n",
      "  -0.18643006]\n",
      " [-0.51243621 -0.08829399  0.10680255  0.52749333 -0.81226336  0.12528523\n",
      "   0.14099007]]\n",
      "intercept is [-3.30255866 -4.57257361  7.87513227]\n"
     ]
    }
   ],
   "source": [
    "logit_model_2_balanced = LogisticRegression(multi_class = 'multinomial', solver = 'newton-cg', \n",
    "                                            class_weight='balanced', random_state=0).fit(d_X2_train, d_y2_train)\n",
    "prediction_2_balanced = logit_model_2_balanced.predict(d_X2_train)\n",
    "probs_2_balanced = logit_model_2_balanced.predict_proba(d_X2_train)\n",
    "coef_2_balanced = logit_model_2_balanced.coef_\n",
    "intercept_2_balanced = logit_model_2_balanced.intercept_\n",
    "print('coef_2 is', coef_2_balanced)\n",
    "print('intercept is', intercept_2_balanced)"
   ]
  },
  {
   "cell_type": "code",
   "execution_count": 29,
   "metadata": {},
   "outputs": [
    {
     "name": "stdout",
     "output_type": "stream",
     "text": [
      "s2 overall accuracy is 0.5606060606060606\n",
      "class 0 accuracy is 0.55\n",
      "class 1 accuracy is 0.5\n",
      "class 2 accuracy is 0.875\n"
     ]
    }
   ],
   "source": [
    "#accuracies of scenario 2 logit models\n",
    "s2_overall_acc_balanced = overall_percent_accuracy(d_y2_train, prediction_2_balanced)\n",
    "s2_acc_class0_balanced = percent_acc_per_class(d_y2_train, prediction_2_balanced, 0)\n",
    "s2_acc_class1_balanced = percent_acc_per_class(d_y2_train, prediction_2_balanced, 1)\n",
    "s2_acc_class2_balanced = percent_acc_per_class(d_y2_train, prediction_2_balanced, 2)\n",
    "print('s2 overall accuracy is', s2_overall_acc_balanced)\n",
    "print('class 0 accuracy is', s2_acc_class0_balanced)\n",
    "print('class 1 accuracy is', s2_acc_class1_balanced)\n",
    "print('class 2 accuracy is', s2_acc_class2_balanced)"
   ]
  },
  {
   "cell_type": "markdown",
   "metadata": {},
   "source": [
    "### Dataset balancing using SMOTE (another oversampling method)\n",
    "\n",
    "SMOTE works by selecting examples that are close in the feature space, drawing a line between the examples in the feature space and drawing a new sample at a point along that line."
   ]
  },
  {
   "cell_type": "code",
   "execution_count": 30,
   "metadata": {},
   "outputs": [
    {
     "name": "stdout",
     "output_type": "stream",
     "text": [
      "coef_2 is [[ 0.31741291  0.02169354 -0.05175676 -0.41987289  0.51047893 -0.05793536\n",
      "  -0.00272048]\n",
      " [ 0.38811063  0.13935143 -0.11222223 -0.30472341  0.56784725 -0.09914028\n",
      "  -0.19102632]\n",
      " [-0.705524   -0.16104942  0.16397395  0.72459017 -1.0783257   0.15707221\n",
      "   0.19374316]]\n",
      "intercept is [-4.51833861 -6.18805309 10.7063917 ]\n"
     ]
    }
   ],
   "source": [
    "# resample dataset\n",
    "ros_smote2 = SMOTE(random_state=42)\n",
    "X2_train_smote, y2_train_smote = ros_smote2.fit_sample(d_X2_train, d_y2_train)\n",
    "\n",
    "logit_model_2_smote = LogisticRegression(multi_class = 'multinomial', solver = 'newton-cg', \n",
    "                                      random_state=0).fit(X2_train_smote, y2_train_smote)\n",
    "prediction_2_smote = logit_model_2_smote.predict(X2_train_smote)\n",
    "probs_2_smote = logit_model_2_smote.predict_proba(X2_train_smote)\n",
    "coef_2_smote = logit_model_2_smote.coef_ \n",
    "intercept_2_smote = logit_model_2_smote.intercept_\n",
    "print('coef_2 is', coef_2_smote)\n",
    "print('intercept is', intercept_2_smote) "
   ]
  },
  {
   "cell_type": "code",
   "execution_count": 31,
   "metadata": {},
   "outputs": [
    {
     "name": "stdout",
     "output_type": "stream",
     "text": [
      "s2 overall accuracy is 0.6491228070175439\n",
      "class 0 accuracy is 0.6052631578947368\n",
      "class 1 accuracy is 0.42105263157894735\n",
      "class 2 accuracy is 0.9210526315789473\n"
     ]
    }
   ],
   "source": [
    "#accuracies of scenario 2 logit models\n",
    "s2_overall_acc_smote = overall_percent_accuracy(y2_train_smote, prediction_2_smote)\n",
    "s2_acc_class0_smote = percent_acc_per_class(y2_train_smote, prediction_2_smote, 0)\n",
    "s2_acc_class1_smote = percent_acc_per_class(y2_train_smote, prediction_2_smote, 1)\n",
    "s2_acc_class2_smote = percent_acc_per_class(y2_train_smote, prediction_2_smote, 2)\n",
    "print('s2 overall accuracy is', s2_overall_acc_smote)\n",
    "print('class 0 accuracy is', s2_acc_class0_smote)\n",
    "print('class 1 accuracy is', s2_acc_class1_smote)\n",
    "print('class 2 accuracy is', s2_acc_class2_smote)"
   ]
  },
  {
   "cell_type": "markdown",
   "metadata": {},
   "source": [
    "# Scenario 3"
   ]
  },
  {
   "cell_type": "code",
   "execution_count": 32,
   "metadata": {
    "scrolled": false
   },
   "outputs": [
    {
     "name": "stdout",
     "output_type": "stream",
     "text": [
      "coef_3 is [[ 0.03037894  0.63581802 -0.05697129 -0.06571776 -0.40123813 -0.20115731\n",
      "  -0.71315925  0.34703376  0.00631019  0.09328293  0.38172993]\n",
      " [-0.25744151 -0.32246103 -0.04536932  0.2145025  -0.05520957 -0.13041688\n",
      "   0.00610347  0.25136681  0.35807549  0.29525451 -0.68698533]\n",
      " [ 0.06198748  0.4176855  -0.00975899 -0.28197783 -0.07491349 -0.31048837\n",
      "   0.16405585 -0.08980682  0.12220693  0.0815944   0.0649113 ]\n",
      " [ 0.16507509 -0.73104249  0.1120996   0.13319309  0.53136119  0.64206256\n",
      "   0.54299994 -0.50859375 -0.48659261 -0.47013183  0.2403441 ]]\n",
      "intercept is [ 0.69590204  6.01942797  0.08175599 -6.79708601]\n"
     ]
    }
   ],
   "source": [
    "logit_model_3 = LogisticRegression(multi_class = 'multinomial', solver = 'newton-cg', random_state=0).fit(X3_train, y3_train)\n",
    "prediction_3 = logit_model_3.predict(X3_train)\n",
    "probs_3 = logit_model_3.predict_proba(X3_train)\n",
    "coef_3 = logit_model_3.coef_\n",
    "intercept_3 = logit_model_3.intercept_\n",
    "print('coef_3 is', coef_3)\n",
    "print('intercept is', intercept_3)"
   ]
  },
  {
   "cell_type": "code",
   "execution_count": 33,
   "metadata": {},
   "outputs": [
    {
     "name": "stdout",
     "output_type": "stream",
     "text": [
      "s3 overall accuracy is 0.5757575757575758\n",
      "class 0 accuracy is 0.25\n",
      "class 1 accuracy is 0.7368421052631579\n",
      "class 2 accuracy is 0.6071428571428571\n",
      "class 3 accuracy is 1.0\n"
     ]
    }
   ],
   "source": [
    "s3_overall_acc = overall_percent_accuracy(y3_train, prediction_3)\n",
    "s3_acc_class0 = percent_acc_per_class(y3_train, prediction_3, 0)\n",
    "s3_acc_class1 = percent_acc_per_class(y3_train, prediction_3, 1)\n",
    "s3_acc_class2 = percent_acc_per_class(y3_train, prediction_3, 2)\n",
    "s3_acc_class3 = percent_acc_per_class(y3_train, prediction_3, 3)\n",
    "print('s3 overall accuracy is', s3_overall_acc)\n",
    "print('class 0 accuracy is', s3_acc_class0)\n",
    "print('class 1 accuracy is', s3_acc_class1)\n",
    "print('class 2 accuracy is', s3_acc_class2)\n",
    "print('class 3 accuracy is', s3_acc_class3)"
   ]
  },
  {
   "cell_type": "markdown",
   "metadata": {},
   "source": [
    "### Dataset balancing using class_weight='balanced'\n",
    "\n",
    "Penalizes the misclassification of the minority class more than the misclassification of the majority class by weighting the loss of each sample by its class weight."
   ]
  },
  {
   "cell_type": "code",
   "execution_count": 34,
   "metadata": {},
   "outputs": [
    {
     "data": {
      "text/html": [
       "<div>\n",
       "<style scoped>\n",
       "    .dataframe tbody tr th:only-of-type {\n",
       "        vertical-align: middle;\n",
       "    }\n",
       "\n",
       "    .dataframe tbody tr th {\n",
       "        vertical-align: top;\n",
       "    }\n",
       "\n",
       "    .dataframe thead th {\n",
       "        text-align: right;\n",
       "    }\n",
       "</style>\n",
       "<table border=\"1\" class=\"dataframe\">\n",
       "  <thead>\n",
       "    <tr style=\"text-align: right;\">\n",
       "      <th></th>\n",
       "      <th>age</th>\n",
       "      <th>s3_communication</th>\n",
       "      <th>s3_your_time</th>\n",
       "      <th>s3_family</th>\n",
       "      <th>s3_partner_time</th>\n",
       "      <th>s3_marriage</th>\n",
       "      <th>s3_commitment</th>\n",
       "    </tr>\n",
       "  </thead>\n",
       "  <tbody>\n",
       "    <tr>\n",
       "      <th>38</th>\n",
       "      <td>20.0</td>\n",
       "      <td>17.312408</td>\n",
       "      <td>15.383358</td>\n",
       "      <td>15.383358</td>\n",
       "      <td>15.383358</td>\n",
       "      <td>17.312408</td>\n",
       "      <td>19.225110</td>\n",
       "    </tr>\n",
       "    <tr>\n",
       "      <th>16</th>\n",
       "      <td>14.0</td>\n",
       "      <td>21.050847</td>\n",
       "      <td>20.000000</td>\n",
       "      <td>3.152542</td>\n",
       "      <td>20.000000</td>\n",
       "      <td>14.745763</td>\n",
       "      <td>21.050847</td>\n",
       "    </tr>\n",
       "    <tr>\n",
       "      <th>50</th>\n",
       "      <td>23.0</td>\n",
       "      <td>19.230769</td>\n",
       "      <td>19.230769</td>\n",
       "      <td>3.846154</td>\n",
       "      <td>19.230769</td>\n",
       "      <td>19.230769</td>\n",
       "      <td>19.230769</td>\n",
       "    </tr>\n",
       "    <tr>\n",
       "      <th>5</th>\n",
       "      <td>14.0</td>\n",
       "      <td>21.428571</td>\n",
       "      <td>14.285714</td>\n",
       "      <td>7.142857</td>\n",
       "      <td>21.428571</td>\n",
       "      <td>14.285714</td>\n",
       "      <td>21.428571</td>\n",
       "    </tr>\n",
       "    <tr>\n",
       "      <th>71</th>\n",
       "      <td>20.0</td>\n",
       "      <td>16.982040</td>\n",
       "      <td>18.858242</td>\n",
       "      <td>13.213598</td>\n",
       "      <td>16.982040</td>\n",
       "      <td>16.982040</td>\n",
       "      <td>16.982040</td>\n",
       "    </tr>\n",
       "  </tbody>\n",
       "</table>\n",
       "</div>"
      ],
      "text/plain": [
       "     age  s3_communication  s3_your_time  s3_family  s3_partner_time  \\\n",
       "38  20.0         17.312408     15.383358  15.383358        15.383358   \n",
       "16  14.0         21.050847     20.000000   3.152542        20.000000   \n",
       "50  23.0         19.230769     19.230769   3.846154        19.230769   \n",
       "5   14.0         21.428571     14.285714   7.142857        21.428571   \n",
       "71  20.0         16.982040     18.858242  13.213598        16.982040   \n",
       "\n",
       "    s3_marriage  s3_commitment  \n",
       "38    17.312408      19.225110  \n",
       "16    14.745763      21.050847  \n",
       "50    19.230769      19.230769  \n",
       "5     14.285714      21.428571  \n",
       "71    16.982040      16.982040  "
      ]
     },
     "execution_count": 34,
     "metadata": {},
     "output_type": "execute_result"
    }
   ],
   "source": [
    "df = norm_data3.loc[np.array(X3_train.index), :][['age', 's3_communication', 's3_your_time',\n",
    "                                                 's3_family', 's3_partner_time',\n",
    "                                                 's3_marriage', 's3_commitment',\n",
    "                                                 's3_decision']]\n",
    "df = normalize(df)\n",
    "d_y3_train = df['s3_decision']\n",
    "d_X3_train = df.drop(['s3_decision'], axis = 1)\n",
    "d_X3_train.head()"
   ]
  },
  {
   "cell_type": "code",
   "execution_count": 35,
   "metadata": {},
   "outputs": [
    {
     "name": "stdout",
     "output_type": "stream",
     "text": [
      "coef_3 is [[ 0.00653214 -0.34700892 -0.59942077  0.16691671  0.13770882  0.19350172\n",
      "   0.44873094]\n",
      " [-0.21059624 -0.25527562 -0.0263811   0.34145822  0.31813662 -0.39490766\n",
      "   0.01625554]\n",
      " [ 0.00690453 -0.38148766 -0.21828661  0.16376084  0.05111185  0.03244631\n",
      "   0.35295282]\n",
      " [ 0.19715956  0.98377224  0.84408853 -0.67213573 -0.50695725  0.16895968\n",
      "  -0.81793929]]\n",
      "intercept is [  3.94981696   6.80089836   3.8199915  -14.57070682]\n"
     ]
    }
   ],
   "source": [
    "logit_model_3_balanced = LogisticRegression(multi_class = 'multinomial', solver = 'newton-cg', \n",
    "                                            class_weight='balanced', random_state=0).fit(d_X3_train, d_y3_train)\n",
    "prediction_3_balanced = logit_model_3_balanced.predict(d_X3_train)\n",
    "probs_3_balanced = logit_model_3_balanced.predict_proba(d_X3_train)\n",
    "coef_3_balanced = logit_model_3_balanced.coef_\n",
    "intercept_3_balanced = logit_model_3_balanced.intercept_\n",
    "print('coef_3 is', coef_3_balanced)\n",
    "print('intercept is', intercept_3_balanced)"
   ]
  },
  {
   "cell_type": "code",
   "execution_count": 36,
   "metadata": {},
   "outputs": [
    {
     "name": "stdout",
     "output_type": "stream",
     "text": [
      "s3 overall accuracy is 0.6060606060606061\n",
      "class 0 accuracy is 0.75\n",
      "class 1 accuracy is 0.7894736842105263\n",
      "class 2 accuracy is 0.35714285714285715\n",
      "class 3 accuracy is 1.0\n"
     ]
    }
   ],
   "source": [
    "s3_overall_acc_balanced = overall_percent_accuracy(y3_train, prediction_3_balanced)\n",
    "s3_acc_class0_balanced = percent_acc_per_class(d_y3_train, prediction_3_balanced, 0)\n",
    "s3_acc_class1_balanced = percent_acc_per_class(d_y3_train, prediction_3_balanced, 1)\n",
    "s3_acc_class2_balanced = percent_acc_per_class(d_y3_train, prediction_3_balanced, 2)\n",
    "s3_acc_class3_balanced = percent_acc_per_class(d_y3_train, prediction_3_balanced, 3)\n",
    "print('s3 overall accuracy is', s3_overall_acc_balanced)\n",
    "print('class 0 accuracy is', s3_acc_class0_balanced)\n",
    "print('class 1 accuracy is', s3_acc_class1_balanced)\n",
    "print('class 2 accuracy is', s3_acc_class2_balanced)\n",
    "print('class 3 accuracy is', s3_acc_class3_balanced)"
   ]
  },
  {
   "cell_type": "markdown",
   "metadata": {},
   "source": [
    "### Dataset balancing using SMOTE (another oversampling method)\n",
    "\n",
    "SMOTE works by selecting examples that are close in the feature space, drawing a line between the examples in the feature space and drawing a new sample at a point along that line."
   ]
  },
  {
   "cell_type": "code",
   "execution_count": 37,
   "metadata": {},
   "outputs": [
    {
     "name": "stdout",
     "output_type": "stream",
     "text": [
      "coef_3 is [[-2.42106623e-04  7.50486430e-01 -3.12667989e-02 -2.25691962e-02\n",
      "  -4.66632442e-01 -2.85351124e-01 -9.49498582e-01  4.74779247e-01\n",
      "   5.32420743e-02  9.27362166e-02  4.17465863e-01]\n",
      " [-2.36381617e-01 -3.90459508e-01 -5.62441015e-02  2.05771398e-01\n",
      "  -1.02155991e-01 -2.04332210e-01  2.56178650e-02  3.63681030e-01\n",
      "   4.00320549e-01  3.65865700e-01 -7.50357053e-01]\n",
      " [ 5.94961412e-02  6.02057204e-01 -2.21154440e-02 -3.03668268e-01\n",
      "  -1.45475697e-01 -4.31189057e-01  1.85564457e-01 -1.13111021e-01\n",
      "   1.70283617e-01  1.04811483e-01  5.48527434e-02]\n",
      " [ 1.77127582e-01 -9.62084127e-01  1.09626344e-01  1.20466066e-01\n",
      "   7.14264129e-01  9.20872390e-01  7.38316260e-01 -7.25349256e-01\n",
      "  -6.23846241e-01 -5.63413400e-01  2.78038447e-01]]\n",
      "intercept is [ 1.53862227  6.26751869 -0.31507804 -7.49106292]\n"
     ]
    }
   ],
   "source": [
    "# resample dataset\n",
    "ros_smote3 = SMOTE(random_state=42, k_neighbors=2)\n",
    "X3_train_smote, y3_train_smote = ros_smote3.fit_sample(X3_train, y3_train)\n",
    "\n",
    "logit_model_3_smote = LogisticRegression(multi_class = 'multinomial', solver = 'newton-cg', \n",
    "                                      random_state=0).fit(X3_train_smote, y3_train_smote)\n",
    "prediction_3_smote = logit_model_3_smote.predict(X3_train_smote)\n",
    "probs_3_smote = logit_model_3_smote.predict_proba(X3_train_smote)\n",
    "coef_3_smote = logit_model_3_smote.coef_ \n",
    "intercept_3_smote = logit_model_3_smote.intercept_\n",
    "print('coef_3 is', coef_3_smote)\n",
    "print('intercept is', intercept_3_smote) "
   ]
  },
  {
   "cell_type": "code",
   "execution_count": 38,
   "metadata": {},
   "outputs": [
    {
     "name": "stdout",
     "output_type": "stream",
     "text": [
      "s3 overall accuracy is 0.7053571428571429\n",
      "class 0 accuracy is 0.6071428571428571\n",
      "class 1 accuracy is 0.75\n",
      "class 2 accuracy is 0.4642857142857143\n",
      "class 3 accuracy is 1.0\n"
     ]
    }
   ],
   "source": [
    "s3_overall_acc_smote = overall_percent_accuracy(y3_train_smote, prediction_3_smote)\n",
    "s3_acc_class0_smote = percent_acc_per_class(y3_train_smote, prediction_3_smote, 0)\n",
    "s3_acc_class1_smote = percent_acc_per_class(y3_train_smote, prediction_3_smote, 1)\n",
    "s3_acc_class2_smote = percent_acc_per_class(y3_train_smote, prediction_3_smote, 2)\n",
    "s3_acc_class3_smote = percent_acc_per_class(y3_train_smote, prediction_3_smote, 3)\n",
    "print('s3 overall accuracy is', s3_overall_acc_smote)\n",
    "print('class 0 accuracy is', s3_acc_class0_smote)\n",
    "print('class 1 accuracy is', s3_acc_class1_smote)\n",
    "print('class 2 accuracy is', s3_acc_class2_smote)\n",
    "print('class 3 accuracy is', s3_acc_class3_smote)"
   ]
  },
  {
   "cell_type": "markdown",
   "metadata": {},
   "source": [
    "# Logit Models: Initial Feature Selection (w/o DB)"
   ]
  },
  {
   "cell_type": "markdown",
   "metadata": {},
   "source": [
    "# Scenario 1"
   ]
  },
  {
   "cell_type": "markdown",
   "metadata": {},
   "source": [
    "FEATURES: COMMITMENT, PARTNER CAREER, DISTANCE (pretty strong, also pretty strong by just excluding age) \n",
    "observation: distance w/o age is positive coeff"
   ]
  },
  {
   "cell_type": "code",
   "execution_count": 39,
   "metadata": {},
   "outputs": [
    {
     "data": {
      "text/html": [
       "<div>\n",
       "<style scoped>\n",
       "    .dataframe tbody tr th:only-of-type {\n",
       "        vertical-align: middle;\n",
       "    }\n",
       "\n",
       "    .dataframe tbody tr th {\n",
       "        vertical-align: top;\n",
       "    }\n",
       "\n",
       "    .dataframe thead th {\n",
       "        text-align: right;\n",
       "    }\n",
       "</style>\n",
       "<table border=\"1\" class=\"dataframe\">\n",
       "  <thead>\n",
       "    <tr style=\"text-align: right;\">\n",
       "      <th></th>\n",
       "      <th>age</th>\n",
       "      <th>s1_commitment</th>\n",
       "      <th>s1_partner_career</th>\n",
       "      <th>s1_distance</th>\n",
       "    </tr>\n",
       "  </thead>\n",
       "  <tbody>\n",
       "    <tr>\n",
       "      <th>48</th>\n",
       "      <td>21.0</td>\n",
       "      <td>29.166667</td>\n",
       "      <td>33.333333</td>\n",
       "      <td>37.500000</td>\n",
       "    </tr>\n",
       "    <tr>\n",
       "      <th>20</th>\n",
       "      <td>14.0</td>\n",
       "      <td>43.478261</td>\n",
       "      <td>43.478261</td>\n",
       "      <td>13.043478</td>\n",
       "    </tr>\n",
       "    <tr>\n",
       "      <th>31</th>\n",
       "      <td>13.0</td>\n",
       "      <td>36.111111</td>\n",
       "      <td>47.222222</td>\n",
       "      <td>16.666667</td>\n",
       "    </tr>\n",
       "    <tr>\n",
       "      <th>23</th>\n",
       "      <td>13.0</td>\n",
       "      <td>44.444444</td>\n",
       "      <td>27.777778</td>\n",
       "      <td>27.777778</td>\n",
       "    </tr>\n",
       "    <tr>\n",
       "      <th>55</th>\n",
       "      <td>22.0</td>\n",
       "      <td>33.333333</td>\n",
       "      <td>33.333333</td>\n",
       "      <td>33.333333</td>\n",
       "    </tr>\n",
       "  </tbody>\n",
       "</table>\n",
       "</div>"
      ],
      "text/plain": [
       "     age  s1_commitment  s1_partner_career  s1_distance\n",
       "48  21.0      29.166667          33.333333    37.500000\n",
       "20  14.0      43.478261          43.478261    13.043478\n",
       "31  13.0      36.111111          47.222222    16.666667\n",
       "23  13.0      44.444444          27.777778    27.777778\n",
       "55  22.0      33.333333          33.333333    33.333333"
      ]
     },
     "execution_count": 39,
     "metadata": {},
     "output_type": "execute_result"
    }
   ],
   "source": [
    "df = data_1.loc[np.array(X1_train.index), :][['age','s1_commitment', 's1_partner_career', 's1_distance',\n",
    "                                             's1_decision']]\n",
    "df = normalize(df)\n",
    "f_y1_train = df['s1_decision']\n",
    "f_X1_train = df.drop(['s1_decision'], axis = 1)\n",
    "f_X1_train.head()"
   ]
  },
  {
   "cell_type": "code",
   "execution_count": 40,
   "metadata": {},
   "outputs": [
    {
     "name": "stdout",
     "output_type": "stream",
     "text": [
      "coef_1 is [[ 0.07156502  0.07317657 -0.03556449 -0.01018125]]\n",
      "intercept is [0.00027431]\n"
     ]
    }
   ],
   "source": [
    "f_model_1 = LogisticRegression(multi_class = 'ovr', solver = 'liblinear', random_state=0).fit(f_X1_train, f_y1_train)\n",
    "f_prediction_1 = f_model_1.predict(f_X1_train)\n",
    "f_probs_1 = f_model_1.predict_proba(f_X1_train)\n",
    "f_coef_1 = f_model_1.coef_ #B1\n",
    "f_intercept_1 = f_model_1.intercept_\n",
    "print('coef_1 is', f_coef_1)\n",
    "print('intercept is', f_intercept_1)"
   ]
  },
  {
   "cell_type": "code",
   "execution_count": 41,
   "metadata": {},
   "outputs": [
    {
     "name": "stdout",
     "output_type": "stream",
     "text": [
      "s1 overall accuracy is 0.9242424242424242\n",
      "class 0 accuracy is 0.0\n",
      "class 1 accuracy is 1.0\n"
     ]
    }
   ],
   "source": [
    "#accuracies of scenario 1 w/ selected features \n",
    "s1_overall_acc_feat = overall_percent_accuracy(f_y1_train, f_prediction_1)\n",
    "s1_acc_class0_feat = percent_acc_per_class(f_y1_train, f_prediction_1, 0)\n",
    "s1_acc_class1_feat = percent_acc_per_class(f_y1_train, f_prediction_1, 1)\n",
    "print('s1 overall accuracy is', s1_overall_acc_feat)\n",
    "print('class 0 accuracy is', s1_acc_class0_feat)\n",
    "print('class 1 accuracy is', s1_acc_class1_feat)"
   ]
  },
  {
   "cell_type": "markdown",
   "metadata": {},
   "source": [
    "# Scenario 2"
   ]
  },
  {
   "cell_type": "code",
   "execution_count": 42,
   "metadata": {},
   "outputs": [
    {
     "data": {
      "text/html": [
       "<div>\n",
       "<style scoped>\n",
       "    .dataframe tbody tr th:only-of-type {\n",
       "        vertical-align: middle;\n",
       "    }\n",
       "\n",
       "    .dataframe tbody tr th {\n",
       "        vertical-align: top;\n",
       "    }\n",
       "\n",
       "    .dataframe thead th {\n",
       "        text-align: right;\n",
       "    }\n",
       "</style>\n",
       "<table border=\"1\" class=\"dataframe\">\n",
       "  <thead>\n",
       "    <tr style=\"text-align: right;\">\n",
       "      <th></th>\n",
       "      <th>age</th>\n",
       "      <th>s2_commitment</th>\n",
       "      <th>s2_distance</th>\n",
       "      <th>s2_communication</th>\n",
       "      <th>s2_partner_time</th>\n",
       "      <th>s2_compromise</th>\n",
       "    </tr>\n",
       "  </thead>\n",
       "  <tbody>\n",
       "    <tr>\n",
       "      <th>20</th>\n",
       "      <td>14.0</td>\n",
       "      <td>24.393064</td>\n",
       "      <td>7.321773</td>\n",
       "      <td>21.946050</td>\n",
       "      <td>21.946050</td>\n",
       "      <td>24.393064</td>\n",
       "    </tr>\n",
       "    <tr>\n",
       "      <th>48</th>\n",
       "      <td>21.0</td>\n",
       "      <td>20.519231</td>\n",
       "      <td>17.942308</td>\n",
       "      <td>15.384615</td>\n",
       "      <td>25.634615</td>\n",
       "      <td>20.519231</td>\n",
       "    </tr>\n",
       "    <tr>\n",
       "      <th>2</th>\n",
       "      <td>13.0</td>\n",
       "      <td>23.994586</td>\n",
       "      <td>16.009281</td>\n",
       "      <td>17.343387</td>\n",
       "      <td>21.326373</td>\n",
       "      <td>21.326373</td>\n",
       "    </tr>\n",
       "    <tr>\n",
       "      <th>76</th>\n",
       "      <td>20.0</td>\n",
       "      <td>23.806167</td>\n",
       "      <td>9.533040</td>\n",
       "      <td>23.806167</td>\n",
       "      <td>19.048458</td>\n",
       "      <td>23.806167</td>\n",
       "    </tr>\n",
       "    <tr>\n",
       "      <th>10</th>\n",
       "      <td>13.0</td>\n",
       "      <td>20.828905</td>\n",
       "      <td>18.756642</td>\n",
       "      <td>18.756642</td>\n",
       "      <td>20.828905</td>\n",
       "      <td>20.828905</td>\n",
       "    </tr>\n",
       "  </tbody>\n",
       "</table>\n",
       "</div>"
      ],
      "text/plain": [
       "     age  s2_commitment  s2_distance  s2_communication  s2_partner_time  \\\n",
       "20  14.0      24.393064     7.321773         21.946050        21.946050   \n",
       "48  21.0      20.519231    17.942308         15.384615        25.634615   \n",
       "2   13.0      23.994586    16.009281         17.343387        21.326373   \n",
       "76  20.0      23.806167     9.533040         23.806167        19.048458   \n",
       "10  13.0      20.828905    18.756642         18.756642        20.828905   \n",
       "\n",
       "    s2_compromise  \n",
       "20      24.393064  \n",
       "48      20.519231  \n",
       "2       21.326373  \n",
       "76      23.806167  \n",
       "10      20.828905  "
      ]
     },
     "execution_count": 42,
     "metadata": {},
     "output_type": "execute_result"
    }
   ],
   "source": [
    "df = norm_data2.loc[np.array(X2_train.index), :].drop(['s2_partner_career', 's2_career', 's2_your_time', 's2_security'], axis = 1)\n",
    "df = normalize(df)\n",
    "f_y2_train = df['s2_decision']\n",
    "f_X2_train = df.drop(['s2_decision'], axis = 1)\n",
    "f_X2_train.head()"
   ]
  },
  {
   "cell_type": "code",
   "execution_count": 43,
   "metadata": {},
   "outputs": [
    {
     "name": "stdout",
     "output_type": "stream",
     "text": [
      "coef_2 is [[ 0.20506809  0.03157688 -0.0274028  -0.23725712  0.23901861 -0.00601848]\n",
      " [ 0.2736407   0.06732109 -0.05880414 -0.14900334  0.30734091 -0.16688189]\n",
      " [-0.47872442 -0.09893592  0.0862095   0.3862428  -0.54641779  0.17284978]]\n",
      "intercept is [-2.9542027 -3.7772444  6.7314471]\n"
     ]
    }
   ],
   "source": [
    "f_model_2 = LogisticRegression(multi_class = 'multinomial', solver = 'newton-cg', random_state=0).fit(f_X2_train, f_y2_train)\n",
    "f_prediction_2 = f_model_2.predict(f_X2_train)\n",
    "f_probs_2 = f_model_2.predict_proba(f_X2_train)\n",
    "f_coef_2 = f_model_2.coef_ \n",
    "f_intercept_2 = f_model_2.intercept_\n",
    "print('coef_2 is', f_coef_2)\n",
    "print('intercept is', f_intercept_2)"
   ]
  },
  {
   "cell_type": "code",
   "execution_count": 44,
   "metadata": {},
   "outputs": [
    {
     "name": "stdout",
     "output_type": "stream",
     "text": [
      "s1 overall accuracy is 0.6666666666666666\n",
      "class 0 accuracy is 0.25\n",
      "class 1 accuracy is 0.9210526315789473\n",
      "class 2 accuracy is 0.5\n"
     ]
    }
   ],
   "source": [
    "s2_overall_acc_feat = overall_percent_accuracy(f_y2_train, f_prediction_2)\n",
    "s2_acc_class0_feat = percent_acc_per_class(f_y2_train, f_prediction_2, 0)\n",
    "s2_acc_class1_feat = percent_acc_per_class(f_y2_train, f_prediction_2, 1)\n",
    "s2_acc_class2_feat = percent_acc_per_class(f_y2_train, f_prediction_2, 2)\n",
    "print('s1 overall accuracy is', s2_overall_acc_feat)\n",
    "print('class 0 accuracy is', s2_acc_class0_feat)\n",
    "print('class 1 accuracy is', s2_acc_class1_feat)\n",
    "print('class 2 accuracy is', s2_acc_class2_feat)"
   ]
  },
  {
   "cell_type": "markdown",
   "metadata": {},
   "source": [
    "# Scenario 3"
   ]
  },
  {
   "cell_type": "code",
   "execution_count": 45,
   "metadata": {},
   "outputs": [
    {
     "data": {
      "text/html": [
       "<div>\n",
       "<style scoped>\n",
       "    .dataframe tbody tr th:only-of-type {\n",
       "        vertical-align: middle;\n",
       "    }\n",
       "\n",
       "    .dataframe tbody tr th {\n",
       "        vertical-align: top;\n",
       "    }\n",
       "\n",
       "    .dataframe thead th {\n",
       "        text-align: right;\n",
       "    }\n",
       "</style>\n",
       "<table border=\"1\" class=\"dataframe\">\n",
       "  <thead>\n",
       "    <tr style=\"text-align: right;\">\n",
       "      <th></th>\n",
       "      <th>age</th>\n",
       "      <th>s3_communication</th>\n",
       "      <th>s3_your_time</th>\n",
       "      <th>s3_partner_time</th>\n",
       "      <th>s3_family</th>\n",
       "      <th>s3_marriage</th>\n",
       "    </tr>\n",
       "  </thead>\n",
       "  <tbody>\n",
       "    <tr>\n",
       "      <th>38</th>\n",
       "      <td>20.0</td>\n",
       "      <td>21.432908</td>\n",
       "      <td>19.044728</td>\n",
       "      <td>19.044728</td>\n",
       "      <td>19.044728</td>\n",
       "      <td>21.432908</td>\n",
       "    </tr>\n",
       "    <tr>\n",
       "      <th>16</th>\n",
       "      <td>14.0</td>\n",
       "      <td>26.663804</td>\n",
       "      <td>25.332761</td>\n",
       "      <td>25.332761</td>\n",
       "      <td>3.993130</td>\n",
       "      <td>18.677544</td>\n",
       "    </tr>\n",
       "    <tr>\n",
       "      <th>50</th>\n",
       "      <td>23.0</td>\n",
       "      <td>23.809524</td>\n",
       "      <td>23.809524</td>\n",
       "      <td>23.809524</td>\n",
       "      <td>4.761905</td>\n",
       "      <td>23.809524</td>\n",
       "    </tr>\n",
       "    <tr>\n",
       "      <th>5</th>\n",
       "      <td>14.0</td>\n",
       "      <td>27.272727</td>\n",
       "      <td>18.181818</td>\n",
       "      <td>27.272727</td>\n",
       "      <td>9.090909</td>\n",
       "      <td>18.181818</td>\n",
       "    </tr>\n",
       "    <tr>\n",
       "      <th>71</th>\n",
       "      <td>20.0</td>\n",
       "      <td>20.455862</td>\n",
       "      <td>22.715859</td>\n",
       "      <td>20.455862</td>\n",
       "      <td>15.916554</td>\n",
       "      <td>20.455862</td>\n",
       "    </tr>\n",
       "  </tbody>\n",
       "</table>\n",
       "</div>"
      ],
      "text/plain": [
       "     age  s3_communication  s3_your_time  s3_partner_time  s3_family  \\\n",
       "38  20.0         21.432908     19.044728        19.044728  19.044728   \n",
       "16  14.0         26.663804     25.332761        25.332761   3.993130   \n",
       "50  23.0         23.809524     23.809524        23.809524   4.761905   \n",
       "5   14.0         27.272727     18.181818        27.272727   9.090909   \n",
       "71  20.0         20.455862     22.715859        20.455862  15.916554   \n",
       "\n",
       "    s3_marriage  \n",
       "38    21.432908  \n",
       "16    18.677544  \n",
       "50    23.809524  \n",
       "5     18.181818  \n",
       "71    20.455862  "
      ]
     },
     "execution_count": 45,
     "metadata": {},
     "output_type": "execute_result"
    }
   ],
   "source": [
    "df = norm_data3.loc[np.array(X3_train.index), :][['age', 's3_communication', 's3_your_time',\n",
    "                                                  's3_partner_time', 's3_family', 's3_marriage',\n",
    "                                                 's3_decision']]\n",
    "df = normalize(df)\n",
    "f_y3_train = df['s3_decision']\n",
    "f_X3_train = df.drop(['s3_decision'], axis = 1)\n",
    "f_X3_train.head()"
   ]
  },
  {
   "cell_type": "code",
   "execution_count": 46,
   "metadata": {},
   "outputs": [
    {
     "name": "stdout",
     "output_type": "stream",
     "text": [
      "coef_2 is [[ 0.08955699 -0.06800256 -0.54913607  0.39786381  0.08747538  0.13196308]\n",
      " [-0.16479006 -0.12334947 -0.03712273  0.25000315  0.23909856 -0.32886322]\n",
      " [ 0.09775442 -0.11059489 -0.19542052  0.23907488  0.0774758  -0.01037771]\n",
      " [-0.02252136  0.3019469   0.7816793  -0.88694187 -0.40404976  0.20727783]]\n",
      "intercept is [ 1.56331574  5.0803856   1.63166316 -8.2753645 ]\n"
     ]
    }
   ],
   "source": [
    "f_model_3 = LogisticRegression(multi_class = 'multinomial', solver = 'newton-cg', random_state=0).fit(f_X3_train, f_y3_train)\n",
    "f_prediction_3 = f_model_3.predict(f_X3_train)\n",
    "f_probs_3 = f_model_3.predict_proba(f_X3_train)\n",
    "f_coef_3 = f_model_3.coef_ \n",
    "f_intercept_3 = f_model_3.intercept_\n",
    "print('coef_2 is', f_coef_3)\n",
    "print('intercept is', f_intercept_3)"
   ]
  },
  {
   "cell_type": "code",
   "execution_count": 47,
   "metadata": {},
   "outputs": [
    {
     "name": "stdout",
     "output_type": "stream",
     "text": [
      "coef_3 is [[ 0.07331574 -0.05417318 -0.73439227  0.56606439  0.11894598  0.10366991]\n",
      " [-0.09821903 -0.19402466 -0.07864917  0.33014689  0.28845168 -0.34623294]\n",
      " [ 0.10588888 -0.14678495 -0.26258493  0.34345273  0.10817812 -0.04196147]\n",
      " [-0.08097794  0.3949861   1.07563227 -1.23965835 -0.51556552  0.28452423]]\n",
      "intercept is [ 2.60351571  4.89605319  1.75453463 -9.25410353]\n"
     ]
    }
   ],
   "source": [
    "ros_smote3 = SMOTE(random_state=42, k_neighbors=2) #k_neighbors=2\n",
    "X3_train_smote, y3_train_smote = ros_smote3.fit_sample(f_X3_train, f_y3_train)\n",
    "\n",
    "logit_model_3_smote = LogisticRegression(multi_class = 'multinomial', solver = 'newton-cg', \n",
    "                                      random_state=0).fit(X3_train_smote, y3_train_smote)\n",
    "prediction_3_smote = logit_model_3_smote.predict(X3_train_smote)\n",
    "probs_3_smote = logit_model_3_smote.predict_proba(X3_train_smote)\n",
    "coef_3_smote = logit_model_3_smote.coef_ \n",
    "intercept_3_smote = logit_model_3_smote.intercept_\n",
    "print('coef_3 is', coef_3_smote)\n",
    "print('intercept is', intercept_3_smote) "
   ]
  },
  {
   "cell_type": "code",
   "execution_count": 48,
   "metadata": {},
   "outputs": [
    {
     "name": "stdout",
     "output_type": "stream",
     "text": [
      "s1 overall accuracy is 0.6060606060606061\n",
      "class 0 accuracy is 0.1875\n",
      "class 1 accuracy is 0.7368421052631579\n",
      "class 2 accuracy is 0.75\n",
      "class 3 accuracy is 0.6666666666666666\n"
     ]
    }
   ],
   "source": [
    "s3_overall_acc_feat = overall_percent_accuracy(f_y3_train, f_prediction_3)\n",
    "s3_acc_class0_feat = percent_acc_per_class(f_y3_train, f_prediction_3, 0)\n",
    "s3_acc_class1_feat = percent_acc_per_class(f_y3_train, f_prediction_3, 1)\n",
    "s3_acc_class2_feat = percent_acc_per_class(f_y3_train, f_prediction_3, 2)\n",
    "s3_acc_class3_feat = percent_acc_per_class(f_y3_train, f_prediction_3, 3)\n",
    "print('s1 overall accuracy is', s3_overall_acc_feat)\n",
    "print('class 0 accuracy is', s3_acc_class0_feat)\n",
    "print('class 1 accuracy is', s3_acc_class1_feat)\n",
    "print('class 2 accuracy is', s3_acc_class2_feat)\n",
    "print('class 3 accuracy is', s3_acc_class3_feat)"
   ]
  },
  {
   "cell_type": "markdown",
   "metadata": {},
   "source": [
    "# Predictions for Test Set"
   ]
  },
  {
   "cell_type": "markdown",
   "metadata": {},
   "source": [
    "Scenario 1: SMOTE MODEL W/ ALL FEATURES"
   ]
  },
  {
   "cell_type": "code",
   "execution_count": 49,
   "metadata": {},
   "outputs": [
    {
     "name": "stdout",
     "output_type": "stream",
     "text": [
      "s1 overall accuracy is 0.6666666666666666\n",
      "class 0 accuracy is 1.0\n",
      "class 1 accuracy is 0.625\n"
     ]
    }
   ],
   "source": [
    "pred_y1_os = logit_model_1_os.predict(X1_test)\n",
    "s1_overall_acc_test_os = overall_percent_accuracy(y1_test, pred_y1_os)\n",
    "s1_acc_class0_test_os = percent_acc_per_class(y1_test, pred_y1_os, 0)\n",
    "s1_acc_class1_test_os = percent_acc_per_class(y1_test, pred_y1_os, 1)\n",
    "print('s1 overall accuracy is', s1_overall_acc_test_os)\n",
    "print('class 0 accuracy is', s1_acc_class0_test_os)\n",
    "print('class 1 accuracy is', s1_acc_class1_test_os)"
   ]
  },
  {
   "cell_type": "code",
   "execution_count": 50,
   "metadata": {},
   "outputs": [
    {
     "data": {
      "text/plain": [
       "(array([[ 0.15241212,  0.03272325, -0.07968258,  0.06975754, -0.15027916]]),\n",
       " array([-0.00131733]))"
      ]
     },
     "execution_count": 50,
     "metadata": {},
     "output_type": "execute_result"
    }
   ],
   "source": [
    "logit_model_1_os.coef_, logit_model_1_os.intercept_"
   ]
  },
  {
   "cell_type": "markdown",
   "metadata": {},
   "source": [
    "Scenario 2: SMOTE MODEL W/ SELECTED FEATURES\n"
   ]
  },
  {
   "cell_type": "code",
   "execution_count": 54,
   "metadata": {},
   "outputs": [],
   "source": [
    "df = norm_data2.loc[np.array(X2_test.index), :][['age', 's2_commitment', 's2_distance', 's2_communication',\n",
    "                                                  's2_partner_time', 's2_security', 's2_compromise', 's2_decision']]\n",
    "df = normalize(df)\n",
    "X2_test = df.drop(['s2_decision'], axis = 1)"
   ]
  },
  {
   "cell_type": "code",
   "execution_count": 55,
   "metadata": {},
   "outputs": [
    {
     "name": "stdout",
     "output_type": "stream",
     "text": [
      "s2 overall accuracy is 0.5555555555555556\n",
      "class 0 accuracy is 0.4\n",
      "class 1 accuracy is 0.6\n",
      "class 2 accuracy is 0.6666666666666666\n"
     ]
    }
   ],
   "source": [
    "pred_y2_os = logit_model_2_smote.predict(X2_test)\n",
    "s2_overall_acc_test_os = overall_percent_accuracy(y2_test, pred_y2_os)\n",
    "s2_acc_class0_test_os = percent_acc_per_class(y2_test, pred_y2_os, 0)\n",
    "s2_acc_class1_test_os = percent_acc_per_class(y2_test, pred_y2_os, 1)\n",
    "s2_acc_class2_test_os = percent_acc_per_class(y2_test, pred_y2_os, 2)\n",
    "print('s2 overall accuracy is', s2_overall_acc_test_os)\n",
    "print('class 0 accuracy is', s2_acc_class0_test_os)\n",
    "print('class 1 accuracy is', s2_acc_class1_test_os)\n",
    "print('class 2 accuracy is', s2_acc_class2_test_os)"
   ]
  },
  {
   "cell_type": "code",
   "execution_count": 56,
   "metadata": {
    "scrolled": true
   },
   "outputs": [
    {
     "data": {
      "text/plain": [
       "(array([[ 0.31741291,  0.02169354, -0.05175676, -0.41987289,  0.51047893,\n",
       "         -0.05793536, -0.00272048],\n",
       "        [ 0.38811063,  0.13935143, -0.11222223, -0.30472341,  0.56784725,\n",
       "         -0.09914028, -0.19102632],\n",
       "        [-0.705524  , -0.16104942,  0.16397395,  0.72459017, -1.0783257 ,\n",
       "          0.15707221,  0.19374316]]),\n",
       " array([-4.51833861, -6.18805309, 10.7063917 ]))"
      ]
     },
     "execution_count": 56,
     "metadata": {},
     "output_type": "execute_result"
    }
   ],
   "source": [
    "logit_model_2_smote.coef_, logit_model_2_smote.intercept_"
   ]
  },
  {
   "cell_type": "markdown",
   "metadata": {},
   "source": [
    "Scenario 3: SMOTE MODEL W/ ALL FEATURES"
   ]
  },
  {
   "cell_type": "code",
   "execution_count": 62,
   "metadata": {},
   "outputs": [
    {
     "name": "stdout",
     "output_type": "stream",
     "text": [
      "s1 overall accuracy is 0.4444444444444444\n",
      "class 0 accuracy is 0.75\n",
      "class 1 accuracy is 0.6\n",
      "class 2 accuracy is 0.25\n",
      "class 3 accuracy is 0.0\n"
     ]
    }
   ],
   "source": [
    "pred_y3_os = logit_model_3_smote.predict(X3_test[['age', 's3_communication', 's3_your_time', 's3_partner_time', 's3_family', 's3_marriage']])\n",
    "s3_overall_acc_test = overall_percent_accuracy(y3_test, pred_y3_os)\n",
    "s3_acc_class0_test = percent_acc_per_class(y3_test, pred_y3_os, 0)\n",
    "s3_acc_class1_test = percent_acc_per_class(y3_test, pred_y3_os, 1)\n",
    "s3_acc_class2_test = percent_acc_per_class(y3_test, pred_y3_os, 2)\n",
    "s3_acc_class3_test = percent_acc_per_class(y3_test, pred_y3_os, 3)\n",
    "print('s1 overall accuracy is', s3_overall_acc_test)\n",
    "print('class 0 accuracy is', s3_acc_class0_test)\n",
    "print('class 1 accuracy is', s3_acc_class1_test)\n",
    "print('class 2 accuracy is', s3_acc_class2_test)\n",
    "print('class 3 accuracy is', s3_acc_class3_test)\n"
   ]
  },
  {
   "cell_type": "code",
   "execution_count": 74,
   "metadata": {},
   "outputs": [
    {
     "data": {
      "text/plain": [
       "(array([[ 0.07331574, -0.05417318, -0.73439227,  0.56606439,  0.11894598,\n",
       "          0.10366991],\n",
       "        [-0.09821903, -0.19402466, -0.07864917,  0.33014689,  0.28845168,\n",
       "         -0.34623294],\n",
       "        [ 0.10588888, -0.14678495, -0.26258493,  0.34345273,  0.10817812,\n",
       "         -0.04196147],\n",
       "        [-0.08097794,  0.3949861 ,  1.07563227, -1.23965835, -0.51556552,\n",
       "          0.28452423]]),\n",
       " array([ 2.60351571,  4.89605319,  1.75453463, -9.25410353]))"
      ]
     },
     "execution_count": 74,
     "metadata": {},
     "output_type": "execute_result"
    }
   ],
   "source": [
    "logit_model_3_smote.coef_, logit_model_3_smote.intercept_"
   ]
  }
 ],
 "metadata": {
  "kernelspec": {
   "display_name": "Python 3",
   "language": "python",
   "name": "python3"
  },
  "language_info": {
   "codemirror_mode": {
    "name": "ipython",
    "version": 3
   },
   "file_extension": ".py",
   "mimetype": "text/x-python",
   "name": "python",
   "nbconvert_exporter": "python",
   "pygments_lexer": "ipython3",
   "version": "3.7.1"
  }
 },
 "nbformat": 4,
 "nbformat_minor": 2
}
